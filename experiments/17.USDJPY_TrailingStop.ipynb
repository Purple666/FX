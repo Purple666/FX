{
 "cells": [
  {
   "cell_type": "code",
   "execution_count": 1,
   "metadata": {},
   "outputs": [
    {
     "data": {
      "text/html": [
       "<div>\n",
       "<style scoped>\n",
       "    .dataframe tbody tr th:only-of-type {\n",
       "        vertical-align: middle;\n",
       "    }\n",
       "\n",
       "    .dataframe tbody tr th {\n",
       "        vertical-align: top;\n",
       "    }\n",
       "\n",
       "    .dataframe thead th {\n",
       "        text-align: right;\n",
       "    }\n",
       "</style>\n",
       "<table border=\"1\" class=\"dataframe\">\n",
       "  <thead>\n",
       "    <tr style=\"text-align: right;\">\n",
       "      <th></th>\n",
       "      <th>Open</th>\n",
       "      <th>High</th>\n",
       "      <th>Low</th>\n",
       "      <th>Close</th>\n",
       "      <th>ATR</th>\n",
       "    </tr>\n",
       "    <tr>\n",
       "      <th>Date</th>\n",
       "      <th></th>\n",
       "      <th></th>\n",
       "      <th></th>\n",
       "      <th></th>\n",
       "      <th></th>\n",
       "    </tr>\n",
       "  </thead>\n",
       "  <tbody>\n",
       "    <tr>\n",
       "      <th>2014-01-02 07:21:00</th>\n",
       "      <td>105.351</td>\n",
       "      <td>105.368</td>\n",
       "      <td>105.351</td>\n",
       "      <td>105.354</td>\n",
       "      <td>0.017400</td>\n",
       "    </tr>\n",
       "    <tr>\n",
       "      <th>2014-01-02 07:22:00</th>\n",
       "      <td>105.355</td>\n",
       "      <td>105.355</td>\n",
       "      <td>105.355</td>\n",
       "      <td>105.355</td>\n",
       "      <td>0.016580</td>\n",
       "    </tr>\n",
       "    <tr>\n",
       "      <th>2014-01-02 07:23:00</th>\n",
       "      <td>105.355</td>\n",
       "      <td>105.355</td>\n",
       "      <td>105.351</td>\n",
       "      <td>105.351</td>\n",
       "      <td>0.015951</td>\n",
       "    </tr>\n",
       "    <tr>\n",
       "      <th>2014-01-02 07:24:00</th>\n",
       "      <td>105.354</td>\n",
       "      <td>105.355</td>\n",
       "      <td>105.349</td>\n",
       "      <td>105.355</td>\n",
       "      <td>0.015453</td>\n",
       "    </tr>\n",
       "    <tr>\n",
       "      <th>2014-01-02 07:25:00</th>\n",
       "      <td>105.355</td>\n",
       "      <td>105.381</td>\n",
       "      <td>105.354</td>\n",
       "      <td>105.365</td>\n",
       "      <td>0.016031</td>\n",
       "    </tr>\n",
       "  </tbody>\n",
       "</table>\n",
       "</div>"
      ],
      "text/plain": [
       "                        Open     High      Low    Close       ATR\n",
       "Date                                                             \n",
       "2014-01-02 07:21:00  105.351  105.368  105.351  105.354  0.017400\n",
       "2014-01-02 07:22:00  105.355  105.355  105.355  105.355  0.016580\n",
       "2014-01-02 07:23:00  105.355  105.355  105.351  105.351  0.015951\n",
       "2014-01-02 07:24:00  105.354  105.355  105.349  105.355  0.015453\n",
       "2014-01-02 07:25:00  105.355  105.381  105.354  105.365  0.016031"
      ]
     },
     "execution_count": 1,
     "metadata": {},
     "output_type": "execute_result"
    }
   ],
   "source": [
    "import pandas as pd\n",
    "import talib\n",
    "\n",
    "# データフレームを読み込む\n",
    "df = pd.read_csv('USDJPY_1M_Pretty.csv', index_col='Date')\n",
    "df.index = pd.to_datetime(df.index)\n",
    "# ATR20計算\n",
    "df['ATR'] = talib.ATR(df['High'].values, df['Low'].values, df['Close'].values, timeperiod=20)\n",
    "del df['Volume']\n",
    "df = df.dropna(how='any') # NaN行の削除\n",
    "df.head()"
   ]
  },
  {
   "cell_type": "code",
   "execution_count": 6,
   "metadata": {},
   "outputs": [
    {
     "name": "stdout",
     "output_type": "stream",
     "text": [
      "Elapsed Time: 1.4574449062347412 sec\n",
      "BuyProfits: [-0.0162   -0.01474  -0.033853 ... -0.039    -0.031     0.      ]\n",
      "Elapsed Time: 1.6470015048980713 sec\n",
      "SellProfits: [ 0.0342    0.03074   0.032853 ... -0.039    -0.031     0.      ]\n"
     ]
    }
   ],
   "source": [
    "import numpy as np\n",
    "from numba import jit\n",
    "import time\n",
    "\n",
    "# TrailingStop\n",
    "@jit\n",
    "def buy_trail(data, index, price, atr):\n",
    "    # TrailingStop: TP=ATR*5, SL=3*ATR, TS=ATR\n",
    "    tp, sl, ts = price + 5 * atr, price - 3 * atr, price + atr\n",
    "    for i in range(index, len(data)):\n",
    "        row = data[i + 1]\n",
    "        if row[2] <= tp <= row[1]: return tp\n",
    "        elif row[2] <= sl <= row[1]: return sl\n",
    "        elif row[2] <= ts <= row[1]: # Move TakeProfit & StopLoss\n",
    "            tp, sl, ts = row[3] + 5 * atr, row[3] - 3 * atr, row[3] + atr\n",
    "    return data[-1][3]\n",
    "\n",
    "@jit\n",
    "def sell_trail(data, index, price, atr):\n",
    "    # TrailingStop: TP=ATR*5, SL=3*ATR, TS=ATR\n",
    "    tp, sl, ts = price - 5 * atr, price + 3 * atr, price - atr\n",
    "    for i in range(index, len(data)):\n",
    "        row = data[i + 1]\n",
    "        if row[2] <= tp <= row[1]: return tp\n",
    "        elif row[2] <= sl <= row[1]: return sl\n",
    "        elif row[2] <= ts <= row[1]: # Move TakeProfit & StopLoss\n",
    "            tp, sl, ts = row[3] - 5 * atr, row[3] + 3 * atr, row[3] - atr\n",
    "    return data[-1][3]\n",
    "\n",
    "# Buy & TrailingStop\n",
    "@jit\n",
    "def buy(data):\n",
    "    result = []\n",
    "    for i in range(len(data)):\n",
    "        # i番目の瞬間に買いを入れると仮定\n",
    "        row = data[i]\n",
    "        result.append(buy_trail(data, i, row[3], row[4]) - row[3]) # 買いを入れた結果（損益）を保存\n",
    "    return result\n",
    "\n",
    "# Sell & TrailingStop\n",
    "@jit\n",
    "def sell(data):\n",
    "    result = []\n",
    "    for i in range(len(data)):\n",
    "        # i番目の瞬間に売りを入れると仮定\n",
    "        row = data[i]\n",
    "        result.append(sell_trail(data, i, row[3], row[4]) - row[3]) # 売りを入れた結果（損益）を保存\n",
    "    return result\n",
    "\n",
    "start = time.time()\n",
    "buy_profit = np.array(buy(df.values))\n",
    "print(\"Elapsed Time: {0} sec\\nBuyProfits: {1}\".format(time.time() - start, buy_profit))\n",
    "\n",
    "start = time.time()\n",
    "sell_profit = np.array(sell(df.values))\n",
    "print(\"Elapsed Time: {0} sec\\nSellProfits: {1}\".format(time.time() - start, sell_profit))"
   ]
  },
  {
   "cell_type": "code",
   "execution_count": 7,
   "metadata": {},
   "outputs": [
    {
     "data": {
      "text/html": [
       "<div>\n",
       "<style scoped>\n",
       "    .dataframe tbody tr th:only-of-type {\n",
       "        vertical-align: middle;\n",
       "    }\n",
       "\n",
       "    .dataframe tbody tr th {\n",
       "        vertical-align: top;\n",
       "    }\n",
       "\n",
       "    .dataframe thead th {\n",
       "        text-align: right;\n",
       "    }\n",
       "</style>\n",
       "<table border=\"1\" class=\"dataframe\">\n",
       "  <thead>\n",
       "    <tr style=\"text-align: right;\">\n",
       "      <th></th>\n",
       "      <th>Open</th>\n",
       "      <th>High</th>\n",
       "      <th>Low</th>\n",
       "      <th>Close</th>\n",
       "      <th>ATR</th>\n",
       "      <th>Buy</th>\n",
       "      <th>Sell</th>\n",
       "    </tr>\n",
       "    <tr>\n",
       "      <th>Date</th>\n",
       "      <th></th>\n",
       "      <th></th>\n",
       "      <th></th>\n",
       "      <th></th>\n",
       "      <th></th>\n",
       "      <th></th>\n",
       "      <th></th>\n",
       "    </tr>\n",
       "  </thead>\n",
       "  <tbody>\n",
       "    <tr>\n",
       "      <th>2014-01-02 07:21:00</th>\n",
       "      <td>105.351</td>\n",
       "      <td>105.368</td>\n",
       "      <td>105.351</td>\n",
       "      <td>105.354</td>\n",
       "      <td>0.017400</td>\n",
       "      <td>-0.016200</td>\n",
       "      <td>0.034200</td>\n",
       "    </tr>\n",
       "    <tr>\n",
       "      <th>2014-01-02 07:22:00</th>\n",
       "      <td>105.355</td>\n",
       "      <td>105.355</td>\n",
       "      <td>105.355</td>\n",
       "      <td>105.355</td>\n",
       "      <td>0.016580</td>\n",
       "      <td>-0.014740</td>\n",
       "      <td>0.030740</td>\n",
       "    </tr>\n",
       "    <tr>\n",
       "      <th>2014-01-02 07:23:00</th>\n",
       "      <td>105.355</td>\n",
       "      <td>105.355</td>\n",
       "      <td>105.351</td>\n",
       "      <td>105.351</td>\n",
       "      <td>0.015951</td>\n",
       "      <td>-0.033853</td>\n",
       "      <td>0.032853</td>\n",
       "    </tr>\n",
       "    <tr>\n",
       "      <th>2014-01-02 07:24:00</th>\n",
       "      <td>105.354</td>\n",
       "      <td>105.355</td>\n",
       "      <td>105.349</td>\n",
       "      <td>105.355</td>\n",
       "      <td>0.015453</td>\n",
       "      <td>-0.036360</td>\n",
       "      <td>0.027360</td>\n",
       "    </tr>\n",
       "    <tr>\n",
       "      <th>2014-01-02 07:25:00</th>\n",
       "      <td>105.355</td>\n",
       "      <td>105.381</td>\n",
       "      <td>105.354</td>\n",
       "      <td>105.365</td>\n",
       "      <td>0.016031</td>\n",
       "      <td>-0.023092</td>\n",
       "      <td>0.019092</td>\n",
       "    </tr>\n",
       "  </tbody>\n",
       "</table>\n",
       "</div>"
      ],
      "text/plain": [
       "                        Open     High      Low    Close       ATR       Buy  \\\n",
       "Date                                                                          \n",
       "2014-01-02 07:21:00  105.351  105.368  105.351  105.354  0.017400 -0.016200   \n",
       "2014-01-02 07:22:00  105.355  105.355  105.355  105.355  0.016580 -0.014740   \n",
       "2014-01-02 07:23:00  105.355  105.355  105.351  105.351  0.015951 -0.033853   \n",
       "2014-01-02 07:24:00  105.354  105.355  105.349  105.355  0.015453 -0.036360   \n",
       "2014-01-02 07:25:00  105.355  105.381  105.354  105.365  0.016031 -0.023092   \n",
       "\n",
       "                         Sell  \n",
       "Date                           \n",
       "2014-01-02 07:21:00  0.034200  \n",
       "2014-01-02 07:22:00  0.030740  \n",
       "2014-01-02 07:23:00  0.032853  \n",
       "2014-01-02 07:24:00  0.027360  \n",
       "2014-01-02 07:25:00  0.019092  "
      ]
     },
     "execution_count": 7,
     "metadata": {},
     "output_type": "execute_result"
    }
   ],
   "source": [
    "# numpyデータをcsv化\n",
    "val = df.values\n",
    "size = val.shape[0]\n",
    "data = np.zeros((size, 7))\n",
    "for i in range(size):\n",
    "    for x in range(5): data[i][x] = val[i][x]\n",
    "    data[i][5] = buy_profit[i]\n",
    "    data[i][6] = sell_profit[i]\n",
    "csv = pd.DataFrame(index=df.index[:size], columns=['Open', 'High', 'Low', 'Close', 'ATR', 'Buy', 'Sell'], data=data)\n",
    "csv.to_csv(\"USDJPY_TrailingStop.csv\")\n",
    "csv.head()"
   ]
  },
  {
   "cell_type": "code",
   "execution_count": 9,
   "metadata": {},
   "outputs": [
    {
     "data": {
      "text/plain": [
       "array([[2.],\n",
       "       [2.],\n",
       "       [2.],\n",
       "       ...,\n",
       "       [2.],\n",
       "       [2.],\n",
       "       [2.]])"
      ]
     },
     "execution_count": 9,
     "metadata": {},
     "output_type": "execute_result"
    }
   ],
   "source": [
    "''' 損益結果をカテゴライズ '''\n",
    "# 5つのパターン（0：大きな損失、1：小さな損失、2：損益なし、3：小さな利益、4：大きな利益）\n",
    "\n",
    "from sklearn.preprocessing import MinMaxScaler\n",
    "\n",
    "scaler = MinMaxScaler()\n",
    "Ybuy = csv['Buy'].values.reshape(-1, 1)\n",
    "scaler.fit(Ybuy)\n",
    "Ybuy = scaler.transform(Ybuy)\n",
    "Ybuy = np.floor(Ybuy * 5) # 5パターンにカテゴライズ\n",
    "Ybuy = np.where(Ybuy == 5., 4., Ybuy) # 最大値が5になっているため4に直す\n",
    "Ybuy"
   ]
  },
  {
   "cell_type": "code",
   "execution_count": 10,
   "metadata": {},
   "outputs": [
    {
     "data": {
      "text/plain": [
       "<BarContainer object of 5 artists>"
      ]
     },
     "execution_count": 10,
     "metadata": {},
     "output_type": "execute_result"
    },
    {
     "data": {
      "image/png": "[encoded data removed]",
      "text/plain": [
       "<Figure size 432x288 with 1 Axes>"
      ]
     },
     "metadata": {
      "needs_background": "light"
     },
     "output_type": "display_data"
    }
   ],
   "source": [
    "import matplotlib.pyplot as plt\n",
    "%matplotlib inline\n",
    "\n",
    "Ynum = [len(Ybuy[Ybuy == i]) for i in range(5)]\n",
    "plt.bar(range(5), Ynum)"
   ]
  },
  {
   "cell_type": "code",
   "execution_count": 13,
   "metadata": {},
   "outputs": [
    {
     "data": {
      "text/plain": [
       "<BarContainer object of 100 artists>"
      ]
     },
     "execution_count": 13,
     "metadata": {},
     "output_type": "execute_result"
    },
    {
     "data": {
      "image/png": "[encoded data removed]",
      "text/plain": [
       "<Figure size 432x288 with 1 Axes>"
      ]
     },
     "metadata": {
      "needs_background": "light"
     },
     "output_type": "display_data"
    }
   ],
   "source": [
    "# 損益結果を100パターンに変換\n",
    "scaler = MinMaxScaler()\n",
    "Ybuy = csv['Buy'].values.reshape(-1, 1)\n",
    "scaler.fit(Ybuy)\n",
    "Ybuy = scaler.transform(Ybuy)\n",
    "Ybuy = np.floor(Ybuy * 100)\n",
    "Ybuy = np.where(Ybuy == 100., 99., Ybuy)\n",
    "Ynum = [len(Ybuy[Ybuy == i]) for i in range(100)]\n",
    "plt.bar(range(100), Ynum)"
   ]
  },
  {
   "cell_type": "code",
   "execution_count": 38,
   "metadata": {},
   "outputs": [
    {
     "data": {
      "text/plain": [
       "((1777487,), array([-0.0162  , -0.01474 , -0.033853, ..., -0.039   , -0.031   ,\n",
       "         0.      ]))"
      ]
     },
     "execution_count": 38,
     "metadata": {},
     "output_type": "execute_result"
    }
   ],
   "source": [
    "# 大きな損失と大きな利益を削除して、もう一度カテゴライズしてみる\n",
    "scaler = MinMaxScaler()\n",
    "Ybuy = csv['Buy'].values.reshape(-1, 1)\n",
    "scaler.fit(Ybuy)\n",
    "y = scaler.transform(Ybuy)\n",
    "y = np.floor(y * 5) # 5パターンにカテゴライズ\n",
    "y = np.where(y == 5., 4., y)\n",
    "Ybuy = Ybuy[np.where((0 < y) & (y < 4))] # パターン1,2,3の列のみ抽出\n",
    "Ybuy.shape, Ybuy"
   ]
  },
  {
   "cell_type": "code",
   "execution_count": 39,
   "metadata": {},
   "outputs": [
    {
     "data": {
      "text/plain": [
       "array([[1.],\n",
       "       [1.],\n",
       "       [1.],\n",
       "       ...,\n",
       "       [1.],\n",
       "       [1.],\n",
       "       [1.]])"
      ]
     },
     "execution_count": 39,
     "metadata": {},
     "output_type": "execute_result"
    }
   ],
   "source": [
    "y = Ybuy.reshape(-1, 1)\n",
    "scaler.fit(y)\n",
    "y = scaler.transform(y)\n",
    "y = np.floor(y * 5) # 5パターンにカテゴライズ\n",
    "y = np.where(y == 5., 4., y) # 最大値が5になっているため4に直す\n",
    "y"
   ]
  },
  {
   "cell_type": "code",
   "execution_count": 40,
   "metadata": {},
   "outputs": [
    {
     "data": {
      "text/plain": [
       "<BarContainer object of 5 artists>"
      ]
     },
     "execution_count": 40,
     "metadata": {},
     "output_type": "execute_result"
    },
    {
     "data": {
      "image/png": "[encoded data removed]",
      "text/plain": [
       "<Figure size 432x288 with 1 Axes>"
      ]
     },
     "metadata": {
      "needs_background": "light"
     },
     "output_type": "display_data"
    }
   ],
   "source": [
    "Ynum = [len(y[y == i]) for i in range(5)]\n",
    "plt.bar(range(5), Ynum)"
   ]
  },
  {
   "cell_type": "code",
   "execution_count": 42,
   "metadata": {},
   "outputs": [
    {
     "data": {
      "text/plain": [
       "<BarContainer object of 5 artists>"
      ]
     },
     "execution_count": 42,
     "metadata": {},
     "output_type": "execute_result"
    },
    {
     "data": {
      "image/png": "[encoded data removed]",
      "text/plain": [
       "<Figure size 432x288 with 1 Axes>"
      ]
     },
     "metadata": {
      "needs_background": "light"
     },
     "output_type": "display_data"
    }
   ],
   "source": [
    "# さらに抽出して再カテゴライズ\n",
    "Ybuy2 = y.reshape(-1, 1)\n",
    "scaler.fit(Ybuy2)\n",
    "y2 = scaler.transform(Ybuy2)\n",
    "y2 = np.floor(y2 * 5)\n",
    "y2 = np.where(y2 == 5., 4., y2)\n",
    "Ybuy2 = Ybuy2[np.where((0 < y2) & (y2 < 4))] # パターン1,2,3の列のみ抽出\n",
    "\n",
    "y2 = Ybuy2.reshape(-1, 1)\n",
    "scaler.fit(y2)\n",
    "y2 = scaler.transform(y2)\n",
    "y2 = np.floor(y2 * 5)\n",
    "y2 = np.where(y2 == 5., 4., y2)\n",
    "\n",
    "Ynum = [len(y2[y2 == i]) for i in range(5)]\n",
    "plt.bar(range(5), Ynum)"
   ]
  },
  {
   "cell_type": "code",
   "execution_count": 1,
   "metadata": {},
   "outputs": [
    {
     "data": {
      "text/html": [
       "<div>\n",
       "<style scoped>\n",
       "    .dataframe tbody tr th:only-of-type {\n",
       "        vertical-align: middle;\n",
       "    }\n",
       "\n",
       "    .dataframe tbody tr th {\n",
       "        vertical-align: top;\n",
       "    }\n",
       "\n",
       "    .dataframe thead th {\n",
       "        text-align: right;\n",
       "    }\n",
       "</style>\n",
       "<table border=\"1\" class=\"dataframe\">\n",
       "  <thead>\n",
       "    <tr style=\"text-align: right;\">\n",
       "      <th></th>\n",
       "      <th>Open</th>\n",
       "      <th>High</th>\n",
       "      <th>Low</th>\n",
       "      <th>Close</th>\n",
       "      <th>ATR</th>\n",
       "      <th>Buy</th>\n",
       "      <th>Sell</th>\n",
       "    </tr>\n",
       "    <tr>\n",
       "      <th>Date</th>\n",
       "      <th></th>\n",
       "      <th></th>\n",
       "      <th></th>\n",
       "      <th></th>\n",
       "      <th></th>\n",
       "      <th></th>\n",
       "      <th></th>\n",
       "    </tr>\n",
       "  </thead>\n",
       "  <tbody>\n",
       "    <tr>\n",
       "      <th>2014-01-02 07:21:00</th>\n",
       "      <td>105.351</td>\n",
       "      <td>105.368</td>\n",
       "      <td>105.351</td>\n",
       "      <td>105.354</td>\n",
       "      <td>0.017400</td>\n",
       "      <td>-0.016200</td>\n",
       "      <td>0.034200</td>\n",
       "    </tr>\n",
       "    <tr>\n",
       "      <th>2014-01-02 07:22:00</th>\n",
       "      <td>105.355</td>\n",
       "      <td>105.355</td>\n",
       "      <td>105.355</td>\n",
       "      <td>105.355</td>\n",
       "      <td>0.016580</td>\n",
       "      <td>-0.014740</td>\n",
       "      <td>0.030740</td>\n",
       "    </tr>\n",
       "    <tr>\n",
       "      <th>2014-01-02 07:23:00</th>\n",
       "      <td>105.355</td>\n",
       "      <td>105.355</td>\n",
       "      <td>105.351</td>\n",
       "      <td>105.351</td>\n",
       "      <td>0.015951</td>\n",
       "      <td>-0.033853</td>\n",
       "      <td>0.032853</td>\n",
       "    </tr>\n",
       "    <tr>\n",
       "      <th>2014-01-02 07:24:00</th>\n",
       "      <td>105.354</td>\n",
       "      <td>105.355</td>\n",
       "      <td>105.349</td>\n",
       "      <td>105.355</td>\n",
       "      <td>0.015453</td>\n",
       "      <td>-0.036360</td>\n",
       "      <td>0.027360</td>\n",
       "    </tr>\n",
       "    <tr>\n",
       "      <th>2014-01-02 07:25:00</th>\n",
       "      <td>105.355</td>\n",
       "      <td>105.381</td>\n",
       "      <td>105.354</td>\n",
       "      <td>105.365</td>\n",
       "      <td>0.016031</td>\n",
       "      <td>-0.023092</td>\n",
       "      <td>0.019092</td>\n",
       "    </tr>\n",
       "  </tbody>\n",
       "</table>\n",
       "</div>"
      ],
      "text/plain": [
       "                        Open     High      Low    Close       ATR       Buy  \\\n",
       "Date                                                                          \n",
       "2014-01-02 07:21:00  105.351  105.368  105.351  105.354  0.017400 -0.016200   \n",
       "2014-01-02 07:22:00  105.355  105.355  105.355  105.355  0.016580 -0.014740   \n",
       "2014-01-02 07:23:00  105.355  105.355  105.351  105.351  0.015951 -0.033853   \n",
       "2014-01-02 07:24:00  105.354  105.355  105.349  105.355  0.015453 -0.036360   \n",
       "2014-01-02 07:25:00  105.355  105.381  105.354  105.365  0.016031 -0.023092   \n",
       "\n",
       "                         Sell  \n",
       "Date                           \n",
       "2014-01-02 07:21:00  0.034200  \n",
       "2014-01-02 07:22:00  0.030740  \n",
       "2014-01-02 07:23:00  0.032853  \n",
       "2014-01-02 07:24:00  0.027360  \n",
       "2014-01-02 07:25:00  0.019092  "
      ]
     },
     "execution_count": 1,
     "metadata": {},
     "output_type": "execute_result"
    }
   ],
   "source": [
    "''' ATR値から損益額をカテゴライズ '''\n",
    "import pandas as pd\n",
    "\n",
    "# データフレームを読み込む\n",
    "df = pd.read_csv('USDJPY_TrailingStop.csv', index_col='Date')\n",
    "df.index = pd.to_datetime(df.index)\n",
    "df = df[(df['Buy'] != 0) & (df['Sell'] != 0)] # 損益額が0の行を削除\n",
    "df.head()"
   ]
  },
  {
   "cell_type": "code",
   "execution_count": 2,
   "metadata": {},
   "outputs": [
    {
     "data": {
      "text/html": [
       "<div>\n",
       "<style scoped>\n",
       "    .dataframe tbody tr th:only-of-type {\n",
       "        vertical-align: middle;\n",
       "    }\n",
       "\n",
       "    .dataframe tbody tr th {\n",
       "        vertical-align: top;\n",
       "    }\n",
       "\n",
       "    .dataframe thead th {\n",
       "        text-align: right;\n",
       "    }\n",
       "</style>\n",
       "<table border=\"1\" class=\"dataframe\">\n",
       "  <thead>\n",
       "    <tr style=\"text-align: right;\">\n",
       "      <th></th>\n",
       "      <th>Open</th>\n",
       "      <th>High</th>\n",
       "      <th>Low</th>\n",
       "      <th>Close</th>\n",
       "      <th>ATR</th>\n",
       "      <th>Buy</th>\n",
       "      <th>Sell</th>\n",
       "      <th>Buy_cat</th>\n",
       "      <th>Sell_cat</th>\n",
       "    </tr>\n",
       "    <tr>\n",
       "      <th>Date</th>\n",
       "      <th></th>\n",
       "      <th></th>\n",
       "      <th></th>\n",
       "      <th></th>\n",
       "      <th></th>\n",
       "      <th></th>\n",
       "      <th></th>\n",
       "      <th></th>\n",
       "      <th></th>\n",
       "    </tr>\n",
       "  </thead>\n",
       "  <tbody>\n",
       "    <tr>\n",
       "      <th>2014-01-02 07:21:00</th>\n",
       "      <td>105.351</td>\n",
       "      <td>105.368</td>\n",
       "      <td>105.351</td>\n",
       "      <td>105.354</td>\n",
       "      <td>0.017400</td>\n",
       "      <td>-0.016200</td>\n",
       "      <td>0.034200</td>\n",
       "      <td>-1</td>\n",
       "      <td>1</td>\n",
       "    </tr>\n",
       "    <tr>\n",
       "      <th>2014-01-02 07:22:00</th>\n",
       "      <td>105.355</td>\n",
       "      <td>105.355</td>\n",
       "      <td>105.355</td>\n",
       "      <td>105.355</td>\n",
       "      <td>0.016580</td>\n",
       "      <td>-0.014740</td>\n",
       "      <td>0.030740</td>\n",
       "      <td>-1</td>\n",
       "      <td>1</td>\n",
       "    </tr>\n",
       "    <tr>\n",
       "      <th>2014-01-02 07:23:00</th>\n",
       "      <td>105.355</td>\n",
       "      <td>105.355</td>\n",
       "      <td>105.351</td>\n",
       "      <td>105.351</td>\n",
       "      <td>0.015951</td>\n",
       "      <td>-0.033853</td>\n",
       "      <td>0.032853</td>\n",
       "      <td>-1</td>\n",
       "      <td>1</td>\n",
       "    </tr>\n",
       "    <tr>\n",
       "      <th>2014-01-02 07:24:00</th>\n",
       "      <td>105.354</td>\n",
       "      <td>105.355</td>\n",
       "      <td>105.349</td>\n",
       "      <td>105.355</td>\n",
       "      <td>0.015453</td>\n",
       "      <td>-0.036360</td>\n",
       "      <td>0.027360</td>\n",
       "      <td>-1</td>\n",
       "      <td>1</td>\n",
       "    </tr>\n",
       "    <tr>\n",
       "      <th>2014-01-02 07:25:00</th>\n",
       "      <td>105.355</td>\n",
       "      <td>105.381</td>\n",
       "      <td>105.354</td>\n",
       "      <td>105.365</td>\n",
       "      <td>0.016031</td>\n",
       "      <td>-0.023092</td>\n",
       "      <td>0.019092</td>\n",
       "      <td>-1</td>\n",
       "      <td>1</td>\n",
       "    </tr>\n",
       "  </tbody>\n",
       "</table>\n",
       "</div>"
      ],
      "text/plain": [
       "                        Open     High      Low    Close       ATR       Buy  \\\n",
       "Date                                                                          \n",
       "2014-01-02 07:21:00  105.351  105.368  105.351  105.354  0.017400 -0.016200   \n",
       "2014-01-02 07:22:00  105.355  105.355  105.355  105.355  0.016580 -0.014740   \n",
       "2014-01-02 07:23:00  105.355  105.355  105.351  105.351  0.015951 -0.033853   \n",
       "2014-01-02 07:24:00  105.354  105.355  105.349  105.355  0.015453 -0.036360   \n",
       "2014-01-02 07:25:00  105.355  105.381  105.354  105.365  0.016031 -0.023092   \n",
       "\n",
       "                         Sell  Buy_cat  Sell_cat  \n",
       "Date                                              \n",
       "2014-01-02 07:21:00  0.034200       -1         1  \n",
       "2014-01-02 07:22:00  0.030740       -1         1  \n",
       "2014-01-02 07:23:00  0.032853       -1         1  \n",
       "2014-01-02 07:24:00  0.027360       -1         1  \n",
       "2014-01-02 07:25:00  0.019092       -1         1  "
      ]
     },
     "execution_count": 2,
     "metadata": {},
     "output_type": "execute_result"
    }
   ],
   "source": [
    "import numpy as np\n",
    "\n",
    "# 損益額を4パターン（2: 5*ATRより大きい, 1: 0より大きい, -1: 0より小さい, -2: -3*ATRより小さい）にカテゴライズ\n",
    "df['Buy_cat'] = np.where(5 * df['ATR'] < df['Buy'], 2, np.where(0 < df['Buy'], 1, np.where(df['Buy'] < -3 * df['ATR'], -2, -1)))\n",
    "df['Sell_cat'] = np.where(5 * df['ATR'] < df['Sell'], 2, np.where(0 < df['Sell'], 1, np.where(df['Sell'] < -3 * df['ATR'], -2, -1)))\n",
    "df.to_csv('USDJPY_TrailingStop2.csv')\n",
    "df.head()"
   ]
  },
  {
   "cell_type": "code",
   "execution_count": 3,
   "metadata": {},
   "outputs": [
    {
     "data": {
      "text/html": [
       "<div>\n",
       "<style scoped>\n",
       "    .dataframe tbody tr th:only-of-type {\n",
       "        vertical-align: middle;\n",
       "    }\n",
       "\n",
       "    .dataframe tbody tr th {\n",
       "        vertical-align: top;\n",
       "    }\n",
       "\n",
       "    .dataframe thead th {\n",
       "        text-align: right;\n",
       "    }\n",
       "</style>\n",
       "<table border=\"1\" class=\"dataframe\">\n",
       "  <thead>\n",
       "    <tr style=\"text-align: right;\">\n",
       "      <th></th>\n",
       "      <th>Open</th>\n",
       "      <th>High</th>\n",
       "      <th>Low</th>\n",
       "      <th>Close</th>\n",
       "      <th>ATR</th>\n",
       "      <th>Buy</th>\n",
       "      <th>Sell</th>\n",
       "      <th>Buy_cat</th>\n",
       "      <th>Sell_cat</th>\n",
       "      <th>Market</th>\n",
       "    </tr>\n",
       "    <tr>\n",
       "      <th>Date</th>\n",
       "      <th></th>\n",
       "      <th></th>\n",
       "      <th></th>\n",
       "      <th></th>\n",
       "      <th></th>\n",
       "      <th></th>\n",
       "      <th></th>\n",
       "      <th></th>\n",
       "      <th></th>\n",
       "      <th></th>\n",
       "    </tr>\n",
       "  </thead>\n",
       "  <tbody>\n",
       "    <tr>\n",
       "      <th>2014-01-02 07:21:00</th>\n",
       "      <td>105.351</td>\n",
       "      <td>105.368</td>\n",
       "      <td>105.351</td>\n",
       "      <td>105.354</td>\n",
       "      <td>0.017400</td>\n",
       "      <td>-0.016200</td>\n",
       "      <td>0.034200</td>\n",
       "      <td>-1</td>\n",
       "      <td>1</td>\n",
       "      <td>-1</td>\n",
       "    </tr>\n",
       "    <tr>\n",
       "      <th>2014-01-02 07:22:00</th>\n",
       "      <td>105.355</td>\n",
       "      <td>105.355</td>\n",
       "      <td>105.355</td>\n",
       "      <td>105.355</td>\n",
       "      <td>0.016580</td>\n",
       "      <td>-0.014740</td>\n",
       "      <td>0.030740</td>\n",
       "      <td>-1</td>\n",
       "      <td>1</td>\n",
       "      <td>-1</td>\n",
       "    </tr>\n",
       "    <tr>\n",
       "      <th>2014-01-02 07:23:00</th>\n",
       "      <td>105.355</td>\n",
       "      <td>105.355</td>\n",
       "      <td>105.351</td>\n",
       "      <td>105.351</td>\n",
       "      <td>0.015951</td>\n",
       "      <td>-0.033853</td>\n",
       "      <td>0.032853</td>\n",
       "      <td>-1</td>\n",
       "      <td>1</td>\n",
       "      <td>-1</td>\n",
       "    </tr>\n",
       "    <tr>\n",
       "      <th>2014-01-02 07:24:00</th>\n",
       "      <td>105.354</td>\n",
       "      <td>105.355</td>\n",
       "      <td>105.349</td>\n",
       "      <td>105.355</td>\n",
       "      <td>0.015453</td>\n",
       "      <td>-0.036360</td>\n",
       "      <td>0.027360</td>\n",
       "      <td>-1</td>\n",
       "      <td>1</td>\n",
       "      <td>-1</td>\n",
       "    </tr>\n",
       "    <tr>\n",
       "      <th>2014-01-02 07:25:00</th>\n",
       "      <td>105.355</td>\n",
       "      <td>105.381</td>\n",
       "      <td>105.354</td>\n",
       "      <td>105.365</td>\n",
       "      <td>0.016031</td>\n",
       "      <td>-0.023092</td>\n",
       "      <td>0.019092</td>\n",
       "      <td>-1</td>\n",
       "      <td>1</td>\n",
       "      <td>-1</td>\n",
       "    </tr>\n",
       "  </tbody>\n",
       "</table>\n",
       "</div>"
      ],
      "text/plain": [
       "                        Open     High      Low    Close       ATR       Buy  \\\n",
       "Date                                                                          \n",
       "2014-01-02 07:21:00  105.351  105.368  105.351  105.354  0.017400 -0.016200   \n",
       "2014-01-02 07:22:00  105.355  105.355  105.355  105.355  0.016580 -0.014740   \n",
       "2014-01-02 07:23:00  105.355  105.355  105.351  105.351  0.015951 -0.033853   \n",
       "2014-01-02 07:24:00  105.354  105.355  105.349  105.355  0.015453 -0.036360   \n",
       "2014-01-02 07:25:00  105.355  105.381  105.354  105.365  0.016031 -0.023092   \n",
       "\n",
       "                         Sell  Buy_cat  Sell_cat  Market  \n",
       "Date                                                      \n",
       "2014-01-02 07:21:00  0.034200       -1         1      -1  \n",
       "2014-01-02 07:22:00  0.030740       -1         1      -1  \n",
       "2014-01-02 07:23:00  0.032853       -1         1      -1  \n",
       "2014-01-02 07:24:00  0.027360       -1         1      -1  \n",
       "2014-01-02 07:25:00  0.019092       -1         1      -1  "
      ]
     },
     "execution_count": 3,
     "metadata": {},
     "output_type": "execute_result"
    }
   ],
   "source": [
    "# Buy_catとSell_catの組み合わせから相場状況をカテゴライズ \n",
    "'''\n",
    "相場状況=[Buy_cat, Sell_cat]\n",
    "強い上昇相場(2) =[2, -2], [2, -1]\n",
    "弱い上昇相場(1) =[1, -2], [1, -1]\n",
    "レンジ相場(0)   =[2, 1], [2, 2], [1, 1], [1, 2], [-1, -2], [-1, -1], [-2, -2], [-2, -1]\n",
    "弱い下降相場(-1)=[-2, 1], [-1, 1]\n",
    "強い下降相場(-2)=[-2, 2], [-1, 2]\n",
    "'''\n",
    "df['Market'] = np.where(df['Buy_cat'] > 0, np.where(df['Sell_cat'] < 0, df['Buy_cat'], 0), np.where(df['Sell_cat'] > 0, -df['Sell_cat'], 0))\n",
    "df.to_csv('USDJPY_TrailingStop2.csv')\n",
    "df.head()"
   ]
  },
  {
   "cell_type": "code",
   "execution_count": 4,
   "metadata": {},
   "outputs": [
    {
     "data": {
      "text/plain": [
       "<BarContainer object of 5 artists>"
      ]
     },
     "execution_count": 4,
     "metadata": {},
     "output_type": "execute_result"
    },
    {
     "data": {
      "image/png": "[encoded data removed]",
      "text/plain": [
       "<Figure size 432x288 with 1 Axes>"
      ]
     },
     "metadata": {
      "needs_background": "light"
     },
     "output_type": "display_data"
    }
   ],
   "source": [
    "import matplotlib.pyplot as plt\n",
    "%matplotlib inline\n",
    "\n",
    "# 相場状況の分散を確認\n",
    "market = df['Market'].values\n",
    "n = [len(market[market == i]) for i in range(-2, 3)]\n",
    "plt.bar(range(-2, 3), n)"
   ]
  },
  {
   "cell_type": "code",
   "execution_count": 5,
   "metadata": {},
   "outputs": [
    {
     "data": {
      "text/plain": [
       "array([3.26276755e-03, 2.54826083e+01, 7.44728380e+01, 2.66646865e-02,\n",
       "       1.46261993e-02])"
      ]
     },
     "execution_count": 5,
     "metadata": {},
     "output_type": "execute_result"
    }
   ],
   "source": [
    "# 存在比率を確認\n",
    "n / np.sum(n) * 100"
   ]
  },
  {
   "cell_type": "code",
   "execution_count": 6,
   "metadata": {},
   "outputs": [
    {
     "data": {
      "text/plain": [
       "array([13.95862586, 48.27287088,  0.        , 27.45129476, 10.31720851])"
      ]
     },
     "execution_count": 6,
     "metadata": {},
     "output_type": "execute_result"
    },
    {
     "data": {
      "image/png": "[encoded data removed]",
      "text/plain": [
       "<Figure size 432x288 with 1 Axes>"
      ]
     },
     "metadata": {
      "needs_background": "light"
     },
     "output_type": "display_data"
    }
   ],
   "source": [
    "# 買いを入れた結果の分散を確認\n",
    "buy = df['Buy_cat'].values\n",
    "n = [len(buy[buy == i]) for i in range(-2, 3)]\n",
    "plt.bar(range(-2, 3), n)\n",
    "# 存在比率を確認\n",
    "n / np.sum(n) * 100"
   ]
  },
  {
   "cell_type": "markdown",
   "metadata": {},
   "source": [
    "損益をATR(20)比でカテゴライズした結果が、最もきれいに分散しているため、これを使って学習してみる。"
   ]
  },
  {
   "cell_type": "code",
   "execution_count": 8,
   "metadata": {},
   "outputs": [
    {
     "data": {
      "text/plain": [
       "Date\n",
       "2018-01-02 07:00:00    1\n",
       "2018-01-02 07:01:00    1\n",
       "2018-01-02 07:02:00   -2\n",
       "2018-01-02 07:03:00    1\n",
       "2018-01-02 07:04:00    1\n",
       "2018-01-02 07:05:00    1\n",
       "2018-01-02 07:06:00    1\n",
       "2018-01-02 07:07:00    1\n",
       "2018-01-02 07:08:00    1\n",
       "2018-01-02 07:09:00    1\n",
       "2018-01-02 07:10:00   -1\n",
       "2018-01-02 07:11:00   -1\n",
       "2018-01-02 07:12:00   -1\n",
       "2018-01-02 07:13:00   -1\n",
       "2018-01-02 07:14:00   -1\n",
       "2018-01-02 07:15:00   -1\n",
       "2018-01-02 07:16:00   -1\n",
       "2018-01-02 07:17:00   -1\n",
       "2018-01-02 07:18:00   -1\n",
       "2018-01-02 07:19:00   -2\n",
       "2018-01-02 07:20:00    1\n",
       "2018-01-02 07:21:00    1\n",
       "2018-01-02 07:22:00    1\n",
       "2018-01-02 07:23:00    1\n",
       "2018-01-02 07:24:00    1\n",
       "2018-01-02 07:25:00    1\n",
       "2018-01-02 07:26:00    1\n",
       "2018-01-02 07:27:00    1\n",
       "2018-01-02 07:28:00    1\n",
       "2018-01-02 07:29:00    1\n",
       "                      ..\n",
       "2018-10-06 05:29:00    1\n",
       "2018-10-06 05:30:00    1\n",
       "2018-10-06 05:31:00    1\n",
       "2018-10-06 05:32:00    1\n",
       "2018-10-06 05:33:00    1\n",
       "2018-10-06 05:34:00    1\n",
       "2018-10-06 05:35:00    1\n",
       "2018-10-06 05:36:00    1\n",
       "2018-10-06 05:37:00    1\n",
       "2018-10-06 05:38:00    1\n",
       "2018-10-06 05:39:00    1\n",
       "2018-10-06 05:40:00    1\n",
       "2018-10-06 05:41:00    1\n",
       "2018-10-06 05:42:00    1\n",
       "2018-10-06 05:43:00    1\n",
       "2018-10-06 05:44:00    1\n",
       "2018-10-06 05:45:00    1\n",
       "2018-10-06 05:46:00    1\n",
       "2018-10-06 05:47:00    1\n",
       "2018-10-06 05:48:00    1\n",
       "2018-10-06 05:49:00   -1\n",
       "2018-10-06 05:50:00   -1\n",
       "2018-10-06 05:51:00   -1\n",
       "2018-10-06 05:52:00   -1\n",
       "2018-10-06 05:53:00   -1\n",
       "2018-10-06 05:54:00   -1\n",
       "2018-10-06 05:55:00   -1\n",
       "2018-10-06 05:56:00   -1\n",
       "2018-10-06 05:57:00   -1\n",
       "2018-10-06 05:58:00   -1\n",
       "Name: Buy_cat, Length: 285914, dtype: int64"
      ]
     },
     "execution_count": 8,
     "metadata": {},
     "output_type": "execute_result"
    }
   ],
   "source": [
    "import pandas as pd\n",
    "\n",
    "# データフレームを読み込む\n",
    "df = pd.read_csv('USDJPY_TrailingStop2.csv', index_col='Date')\n",
    "df.index = pd.to_datetime(df.index)\n",
    "del df['ATR'], df['Open'], df['High'], df['Low'], df['Buy'], df['Sell'], df['Market']\n",
    "# 特徴量、目的変数\n",
    "x = df.loc[:, 'Close']\n",
    "y_buy = df.loc[:, 'Buy_cat']\n",
    "y_sell = df.loc[:, 'Sell_cat']\n",
    "# 訓練データ、テストデータに分割\n",
    "x_train, x_test = x[x.index < '2018'], x[x.index >= '2018']\n",
    "y_buy_train, y_buy_test = y_buy[y_buy.index < '2018'], y_buy[y_buy.index >= '2018']\n",
    "y_sell_train, y_sell_test = y_sell[y_sell.index < '2018'], y_sell[y_sell.index >= '2018']\n",
    "y_buy_test"
   ]
  },
  {
   "cell_type": "code",
   "execution_count": 12,
   "metadata": {},
   "outputs": [
    {
     "data": {
      "text/plain": [
       "((1491718,),\n",
       " array([105.354, 105.355, 105.351, ..., 112.671, 112.668, 112.658]),\n",
       " (1491658, 60),\n",
       " array([[0.23275086, 0.23278836, 0.23263837, ..., 0.23316334, 0.23308835,\n",
       "         0.23308835],\n",
       "        [0.23278836, 0.23263837, 0.23278836, ..., 0.23308835, 0.23308835,\n",
       "         0.23301335],\n",
       "        [0.23263837, 0.23278836, 0.23316334, ..., 0.23308835, 0.23301335,\n",
       "         0.23293835],\n",
       "        ...,\n",
       "        [0.50682466, 0.50701215, 0.50738713, ..., 0.50727464, 0.50734963,\n",
       "         0.50719964],\n",
       "        [0.50701215, 0.50738713, 0.50697465, ..., 0.50734963, 0.50719964,\n",
       "         0.50712464],\n",
       "        [0.50738713, 0.50697465, 0.50659967, ..., 0.50719964, 0.50712464,\n",
       "         0.50701215]]),\n",
       " (1491718,),\n",
       " array([-1, -1, -1, ..., -1, -1, -1], dtype=int64),\n",
       " (1491658, 4),\n",
       " array([[1., 0., 0., 0.],\n",
       "        [0., 1., 0., 0.],\n",
       "        [0., 1., 0., 0.],\n",
       "        ...,\n",
       "        [0., 1., 0., 0.],\n",
       "        [0., 1., 0., 0.],\n",
       "        [0., 1., 0., 0.]], dtype=float32))"
      ]
     },
     "execution_count": 12,
     "metadata": {},
     "output_type": "execute_result"
    }
   ],
   "source": [
    "import numpy as np\n",
    "from sklearn.preprocessing import MinMaxScaler\n",
    "from numba import jit\n",
    "from keras.utils.np_utils import to_categorical\n",
    "\n",
    "# 特徴量をClose(60)、目的変数をTrailingStop損益結果の4パターンとする\n",
    "@jit\n",
    "def gen_xy(x, y_buy, y_sell, window_len=60):\n",
    "    X, Ybuy, Ysell = [], [], []\n",
    "    for i in range(len(x) - window_len):\n",
    "        X.append(x[i : i + window_len].copy())\n",
    "        Ybuy.append(y_buy[i + window_len - 1])\n",
    "        Ysell.append(y_sell[i + window_len - 1])\n",
    "    X, Ybuy, Ysell = np.array(X), np.array(Ybuy), np.array(Ysell)\n",
    "    # 特徴量を正規化\n",
    "    scaler = MinMaxScaler()\n",
    "    scaler.fit(X) # window_len区間の価格の最大値・最小値にフィット\n",
    "    X = scaler.transform(X)\n",
    "    # 目的変数を正規化\n",
    "    Ybuy = np.where(Ybuy > 0, Ybuy + 1, Ybuy + 2)\n",
    "    Ybuy = to_categorical(Ybuy.astype('int32'))\n",
    "    Ysell = np.where(Ysell > 0, Ysell + 1, Ysell + 2)\n",
    "    Ysell = to_categorical(Ysell.astype('int32'))\n",
    "    return X, Ybuy, Ysell\n",
    "\n",
    "Xtrain, Ytrain_buy, Ytrain_sell = gen_xy(x_train.values, y_buy_train.values, y_sell_train.values)\n",
    "x_train.values.shape, x_train.values, Xtrain.shape, Xtrain, y_buy_train.values.shape, y_buy_train.values, Ytrain_buy.shape, Ytrain_buy"
   ]
  },
  {
   "cell_type": "code",
   "execution_count": 13,
   "metadata": {},
   "outputs": [
    {
     "name": "stdout",
     "output_type": "stream",
     "text": [
      "Train on 1342492 samples, validate on 149166 samples\n",
      "Epoch 1/256\n",
      "1342492/1342492 [==============================] - 74s 55us/step - loss: 1.2207 - acc: 0.4813 - val_loss: 1.2114 - val_acc: 0.4877\n",
      "Epoch 2/256\n",
      "1342492/1342492 [==============================] - 69s 51us/step - loss: 1.2174 - acc: 0.4822 - val_loss: 1.2109 - val_acc: 0.4877\n",
      "Epoch 3/256\n",
      "1342492/1342492 [==============================] - 69s 51us/step - loss: 1.2169 - acc: 0.4822 - val_loss: 1.2108 - val_acc: 0.4877\n",
      "Epoch 4/256\n",
      "1342492/1342492 [==============================] - 69s 51us/step - loss: 1.2168 - acc: 0.4822 - val_loss: 1.2114 - val_acc: 0.4877\n",
      "Epoch 5/256\n",
      "1342492/1342492 [==============================] - 69s 51us/step - loss: 1.2167 - acc: 0.4822 - val_loss: 1.2117 - val_acc: 0.4877\n",
      "Epoch 6/256\n",
      "1342492/1342492 [==============================] - 69s 51us/step - loss: 1.2166 - acc: 0.4822 - val_loss: 1.2109 - val_acc: 0.4877\n",
      "Epoch 7/256\n",
      "1342492/1342492 [==============================] - 69s 51us/step - loss: 1.2166 - acc: 0.4822 - val_loss: 1.2113 - val_acc: 0.4877\n",
      "Epoch 8/256\n",
      "1342492/1342492 [==============================] - 69s 51us/step - loss: 1.2165 - acc: 0.4822 - val_loss: 1.2109 - val_acc: 0.4877\n",
      "Epoch 9/256\n",
      "1342492/1342492 [==============================] - 69s 51us/step - loss: 1.2165 - acc: 0.4822 - val_loss: 1.2109 - val_acc: 0.4877\n"
     ]
    },
    {
     "data": {
      "text/plain": [
       "<keras.callbacks.History at 0x1e988dc2588>"
      ]
     },
     "execution_count": 13,
     "metadata": {},
     "output_type": "execute_result"
    }
   ],
   "source": [
    "from keras.models import Sequential\n",
    "from keras.layers import Dense\n",
    "from keras.layers import LSTM\n",
    "from keras.layers import Dropout\n",
    "from keras.callbacks import EarlyStopping\n",
    "from keras.callbacks import ModelCheckpoint\n",
    "\n",
    "''' 買い専用AIの訓練 '''\n",
    "\n",
    "model = Sequential()\n",
    "model.add(LSTM(64, input_shape=(60, 1))) # 入力は 60期間分の値動き\n",
    "model.add(Dropout(0.25))\n",
    "model.add(Dense(4, activation='softmax')) # 出力は 損益額の4パターン\n",
    "model.compile(loss='categorical_crossentropy', optimizer='rmsprop', metrics=['acc'])\n",
    "\n",
    "early_stopping = EarlyStopping(monitor='val_acc', mode='auto', patience=8)\n",
    "model_checkpoint = ModelCheckpoint(filepath=\"17.Buyer.h5\")\n",
    "\n",
    "# 訓練実行\n",
    "model.fit(Xtrain.reshape(Xtrain.shape[0], 60, 1), Ytrain_buy,\n",
    "          batch_size=2048, # 訓練データが多い場合は、ミニバッチサイズを大きくしないとオーバーフローが起きる\n",
    "          epochs=256,\n",
    "          shuffle=True,\n",
    "          validation_split=0.1, # 訓練データのうち10％を検証データとして仕様\n",
    "          callbacks=[early_stopping, model_checkpoint]\n",
    "         )"
   ]
  },
  {
   "cell_type": "code",
   "execution_count": 14,
   "metadata": {},
   "outputs": [
    {
     "name": "stdout",
     "output_type": "stream",
     "text": [
      "Train on 1342330 samples, validate on 149148 samples\n",
      "Epoch 1/256\n",
      "1342330/1342330 [==============================] - 836s 623us/step - loss: 1.2198 - acc: 0.4816 - val_loss: 1.2141 - val_acc: 0.4876\n",
      "Epoch 2/256\n",
      "1342330/1342330 [==============================] - 833s 621us/step - loss: 1.2170 - acc: 0.4822 - val_loss: 1.2121 - val_acc: 0.4876\n",
      "Epoch 3/256\n",
      "1342330/1342330 [==============================] - 833s 620us/step - loss: 1.2168 - acc: 0.4822 - val_loss: 1.2109 - val_acc: 0.4876\n",
      "Epoch 4/256\n",
      " 188416/1342330 [===>..........................] - ETA: 11:24 - loss: 1.2180 - acc: 0.4806"
     ]
    },
    {
     "ename": "KeyboardInterrupt",
     "evalue": "",
     "output_type": "error",
     "traceback": [
      "\u001b[1;31m---------------------------------------------------------------------------\u001b[0m",
      "\u001b[1;31mKeyboardInterrupt\u001b[0m                         Traceback (most recent call last)",
      "\u001b[1;32m<ipython-input-14-f0fa5edfec74>\u001b[0m in \u001b[0;36m<module>\u001b[1;34m()\u001b[0m\n\u001b[0;32m     17\u001b[0m           \u001b[0mshuffle\u001b[0m\u001b[1;33m=\u001b[0m\u001b[1;32mTrue\u001b[0m\u001b[1;33m,\u001b[0m\u001b[1;33m\u001b[0m\u001b[0m\n\u001b[0;32m     18\u001b[0m           \u001b[0mvalidation_split\u001b[0m\u001b[1;33m=\u001b[0m\u001b[1;36m0.1\u001b[0m\u001b[1;33m,\u001b[0m \u001b[1;31m# 訓練データのうち10％を検証データとして仕様\u001b[0m\u001b[1;33m\u001b[0m\u001b[0m\n\u001b[1;32m---> 19\u001b[1;33m           \u001b[0mcallbacks\u001b[0m\u001b[1;33m=\u001b[0m\u001b[1;33m[\u001b[0m\u001b[0mearly_stopping\u001b[0m\u001b[1;33m,\u001b[0m \u001b[0mmodel_checkpoint\u001b[0m\u001b[1;33m]\u001b[0m\u001b[1;33m\u001b[0m\u001b[0m\n\u001b[0m\u001b[0;32m     20\u001b[0m          )\n",
      "\u001b[1;32mC:\\App\\Miniconda3\\envs\\py35-ml\\lib\\site-packages\\keras\\engine\\training.py\u001b[0m in \u001b[0;36mfit\u001b[1;34m(self, x, y, batch_size, epochs, verbose, callbacks, validation_split, validation_data, shuffle, class_weight, sample_weight, initial_epoch, steps_per_epoch, validation_steps, **kwargs)\u001b[0m\n\u001b[0;32m   1037\u001b[0m                                         \u001b[0minitial_epoch\u001b[0m\u001b[1;33m=\u001b[0m\u001b[0minitial_epoch\u001b[0m\u001b[1;33m,\u001b[0m\u001b[1;33m\u001b[0m\u001b[0m\n\u001b[0;32m   1038\u001b[0m                                         \u001b[0msteps_per_epoch\u001b[0m\u001b[1;33m=\u001b[0m\u001b[0msteps_per_epoch\u001b[0m\u001b[1;33m,\u001b[0m\u001b[1;33m\u001b[0m\u001b[0m\n\u001b[1;32m-> 1039\u001b[1;33m                                         validation_steps=validation_steps)\n\u001b[0m\u001b[0;32m   1040\u001b[0m \u001b[1;33m\u001b[0m\u001b[0m\n\u001b[0;32m   1041\u001b[0m     def evaluate(self, x=None, y=None,\n",
      "\u001b[1;32mC:\\App\\Miniconda3\\envs\\py35-ml\\lib\\site-packages\\keras\\engine\\training_arrays.py\u001b[0m in \u001b[0;36mfit_loop\u001b[1;34m(model, f, ins, out_labels, batch_size, epochs, verbose, callbacks, val_f, val_ins, shuffle, callback_metrics, initial_epoch, steps_per_epoch, validation_steps)\u001b[0m\n\u001b[0;32m    197\u001b[0m                     \u001b[0mins_batch\u001b[0m\u001b[1;33m[\u001b[0m\u001b[0mi\u001b[0m\u001b[1;33m]\u001b[0m \u001b[1;33m=\u001b[0m \u001b[0mins_batch\u001b[0m\u001b[1;33m[\u001b[0m\u001b[0mi\u001b[0m\u001b[1;33m]\u001b[0m\u001b[1;33m.\u001b[0m\u001b[0mtoarray\u001b[0m\u001b[1;33m(\u001b[0m\u001b[1;33m)\u001b[0m\u001b[1;33m\u001b[0m\u001b[0m\n\u001b[0;32m    198\u001b[0m \u001b[1;33m\u001b[0m\u001b[0m\n\u001b[1;32m--> 199\u001b[1;33m                 \u001b[0mouts\u001b[0m \u001b[1;33m=\u001b[0m \u001b[0mf\u001b[0m\u001b[1;33m(\u001b[0m\u001b[0mins_batch\u001b[0m\u001b[1;33m)\u001b[0m\u001b[1;33m\u001b[0m\u001b[0m\n\u001b[0m\u001b[0;32m    200\u001b[0m                 \u001b[0mouts\u001b[0m \u001b[1;33m=\u001b[0m \u001b[0mto_list\u001b[0m\u001b[1;33m(\u001b[0m\u001b[0mouts\u001b[0m\u001b[1;33m)\u001b[0m\u001b[1;33m\u001b[0m\u001b[0m\n\u001b[0;32m    201\u001b[0m                 \u001b[1;32mfor\u001b[0m \u001b[0ml\u001b[0m\u001b[1;33m,\u001b[0m \u001b[0mo\u001b[0m \u001b[1;32min\u001b[0m \u001b[0mzip\u001b[0m\u001b[1;33m(\u001b[0m\u001b[0mout_labels\u001b[0m\u001b[1;33m,\u001b[0m \u001b[0mouts\u001b[0m\u001b[1;33m)\u001b[0m\u001b[1;33m:\u001b[0m\u001b[1;33m\u001b[0m\u001b[0m\n",
      "\u001b[1;32mC:\\App\\Miniconda3\\envs\\py35-ml\\lib\\site-packages\\keras\\backend\\tensorflow_backend.py\u001b[0m in \u001b[0;36m__call__\u001b[1;34m(self, inputs)\u001b[0m\n\u001b[0;32m   2713\u001b[0m                 \u001b[1;32mreturn\u001b[0m \u001b[0mself\u001b[0m\u001b[1;33m.\u001b[0m\u001b[0m_legacy_call\u001b[0m\u001b[1;33m(\u001b[0m\u001b[0minputs\u001b[0m\u001b[1;33m)\u001b[0m\u001b[1;33m\u001b[0m\u001b[0m\n\u001b[0;32m   2714\u001b[0m \u001b[1;33m\u001b[0m\u001b[0m\n\u001b[1;32m-> 2715\u001b[1;33m             \u001b[1;32mreturn\u001b[0m \u001b[0mself\u001b[0m\u001b[1;33m.\u001b[0m\u001b[0m_call\u001b[0m\u001b[1;33m(\u001b[0m\u001b[0minputs\u001b[0m\u001b[1;33m)\u001b[0m\u001b[1;33m\u001b[0m\u001b[0m\n\u001b[0m\u001b[0;32m   2716\u001b[0m         \u001b[1;32melse\u001b[0m\u001b[1;33m:\u001b[0m\u001b[1;33m\u001b[0m\u001b[0m\n\u001b[0;32m   2717\u001b[0m             \u001b[1;32mif\u001b[0m \u001b[0mpy_any\u001b[0m\u001b[1;33m(\u001b[0m\u001b[0mis_tensor\u001b[0m\u001b[1;33m(\u001b[0m\u001b[0mx\u001b[0m\u001b[1;33m)\u001b[0m \u001b[1;32mfor\u001b[0m \u001b[0mx\u001b[0m \u001b[1;32min\u001b[0m \u001b[0minputs\u001b[0m\u001b[1;33m)\u001b[0m\u001b[1;33m:\u001b[0m\u001b[1;33m\u001b[0m\u001b[0m\n",
      "\u001b[1;32mC:\\App\\Miniconda3\\envs\\py35-ml\\lib\\site-packages\\keras\\backend\\tensorflow_backend.py\u001b[0m in \u001b[0;36m_call\u001b[1;34m(self, inputs)\u001b[0m\n\u001b[0;32m   2673\u001b[0m             \u001b[0mfetched\u001b[0m \u001b[1;33m=\u001b[0m \u001b[0mself\u001b[0m\u001b[1;33m.\u001b[0m\u001b[0m_callable_fn\u001b[0m\u001b[1;33m(\u001b[0m\u001b[1;33m*\u001b[0m\u001b[0marray_vals\u001b[0m\u001b[1;33m,\u001b[0m \u001b[0mrun_metadata\u001b[0m\u001b[1;33m=\u001b[0m\u001b[0mself\u001b[0m\u001b[1;33m.\u001b[0m\u001b[0mrun_metadata\u001b[0m\u001b[1;33m)\u001b[0m\u001b[1;33m\u001b[0m\u001b[0m\n\u001b[0;32m   2674\u001b[0m         \u001b[1;32melse\u001b[0m\u001b[1;33m:\u001b[0m\u001b[1;33m\u001b[0m\u001b[0m\n\u001b[1;32m-> 2675\u001b[1;33m             \u001b[0mfetched\u001b[0m \u001b[1;33m=\u001b[0m \u001b[0mself\u001b[0m\u001b[1;33m.\u001b[0m\u001b[0m_callable_fn\u001b[0m\u001b[1;33m(\u001b[0m\u001b[1;33m*\u001b[0m\u001b[0marray_vals\u001b[0m\u001b[1;33m)\u001b[0m\u001b[1;33m\u001b[0m\u001b[0m\n\u001b[0m\u001b[0;32m   2676\u001b[0m         \u001b[1;32mreturn\u001b[0m \u001b[0mfetched\u001b[0m\u001b[1;33m[\u001b[0m\u001b[1;33m:\u001b[0m\u001b[0mlen\u001b[0m\u001b[1;33m(\u001b[0m\u001b[0mself\u001b[0m\u001b[1;33m.\u001b[0m\u001b[0moutputs\u001b[0m\u001b[1;33m)\u001b[0m\u001b[1;33m]\u001b[0m\u001b[1;33m\u001b[0m\u001b[0m\n\u001b[0;32m   2677\u001b[0m \u001b[1;33m\u001b[0m\u001b[0m\n",
      "\u001b[1;32mC:\\App\\Miniconda3\\envs\\py35-ml\\lib\\site-packages\\tensorflow\\python\\client\\session.py\u001b[0m in \u001b[0;36m__call__\u001b[1;34m(self, *args, **kwargs)\u001b[0m\n\u001b[0;32m   1397\u001b[0m           ret = tf_session.TF_SessionRunCallable(\n\u001b[0;32m   1398\u001b[0m               \u001b[0mself\u001b[0m\u001b[1;33m.\u001b[0m\u001b[0m_session\u001b[0m\u001b[1;33m.\u001b[0m\u001b[0m_session\u001b[0m\u001b[1;33m,\u001b[0m \u001b[0mself\u001b[0m\u001b[1;33m.\u001b[0m\u001b[0m_handle\u001b[0m\u001b[1;33m,\u001b[0m \u001b[0margs\u001b[0m\u001b[1;33m,\u001b[0m \u001b[0mstatus\u001b[0m\u001b[1;33m,\u001b[0m\u001b[1;33m\u001b[0m\u001b[0m\n\u001b[1;32m-> 1399\u001b[1;33m               run_metadata_ptr)\n\u001b[0m\u001b[0;32m   1400\u001b[0m         \u001b[1;32mif\u001b[0m \u001b[0mrun_metadata\u001b[0m\u001b[1;33m:\u001b[0m\u001b[1;33m\u001b[0m\u001b[0m\n\u001b[0;32m   1401\u001b[0m           \u001b[0mproto_data\u001b[0m \u001b[1;33m=\u001b[0m \u001b[0mtf_session\u001b[0m\u001b[1;33m.\u001b[0m\u001b[0mTF_GetBuffer\u001b[0m\u001b[1;33m(\u001b[0m\u001b[0mrun_metadata_ptr\u001b[0m\u001b[1;33m)\u001b[0m\u001b[1;33m\u001b[0m\u001b[0m\n",
      "\u001b[1;31mKeyboardInterrupt\u001b[0m: "
     ]
    }
   ],
   "source": [
    "# 特徴量を240期間にしてもう一度学習\n",
    "Xtrain, Ytrain_buy, Ytrain_sell = gen_xy(x_train.values, y_buy_train.values, y_sell_train.values, 240)\n",
    "\n",
    "model = Sequential()\n",
    "model.add(LSTM(256, input_shape=(240, 1)))\n",
    "model.add(Dropout(0.25))\n",
    "model.add(Dense(4, activation='softmax'))\n",
    "model.compile(loss='categorical_crossentropy', optimizer='rmsprop', metrics=['acc'])\n",
    "\n",
    "early_stopping = EarlyStopping(monitor='val_acc', mode='auto', patience=8)\n",
    "model_checkpoint = ModelCheckpoint(filepath=\"17.Buyer.h5\")\n",
    "\n",
    "# 訓練実行\n",
    "model.fit(Xtrain.reshape(Xtrain.shape[0], 240, 1), Ytrain_buy,\n",
    "          batch_size=2048, # 訓練データが多い場合は、ミニバッチサイズを大きくしないとオーバーフローが起きる\n",
    "          epochs=256,\n",
    "          shuffle=True,\n",
    "          validation_split=0.1, # 訓練データのうち10％を検証データとして仕様\n",
    "          callbacks=[early_stopping, model_checkpoint]\n",
    "         )"
   ]
  },
  {
   "cell_type": "markdown",
   "metadata": {},
   "source": [
    "単純な値動きでの学習では、予測率50％を少し下回る程度の精度しか出せていない。\n",
    "\n",
    "特徴量にテクニカル指標を採用するなど、いくらかの工夫が必要と思われる。"
   ]
  },
  {
   "cell_type": "code",
   "execution_count": 1,
   "metadata": {},
   "outputs": [
    {
     "name": "stderr",
     "output_type": "stream",
     "text": [
      "Using TensorFlow backend.\n"
     ]
    },
    {
     "data": {
      "text/plain": [
       "((1491718,),\n",
       " array([105.354, 105.355, 105.351, ..., 112.671, 112.668, 112.658]),\n",
       " (1491658, 60),\n",
       " array([[0.23275086, 0.23278836, 0.23263837, ..., 0.23316334, 0.23308835,\n",
       "         0.23308835],\n",
       "        [0.23278836, 0.23263837, 0.23278836, ..., 0.23308835, 0.23308835,\n",
       "         0.23301335],\n",
       "        [0.23263837, 0.23278836, 0.23316334, ..., 0.23308835, 0.23301335,\n",
       "         0.23293835],\n",
       "        ...,\n",
       "        [0.50682466, 0.50701215, 0.50738713, ..., 0.50727464, 0.50734963,\n",
       "         0.50719964],\n",
       "        [0.50701215, 0.50738713, 0.50697465, ..., 0.50734963, 0.50719964,\n",
       "         0.50712464],\n",
       "        [0.50738713, 0.50697465, 0.50659967, ..., 0.50719964, 0.50712464,\n",
       "         0.50701215]]),\n",
       " (1491718,),\n",
       " array([-1, -1, -1, ..., -1, -1, -1], dtype=int64),\n",
       " (1491658, 4),\n",
       " array([[1., 0., 0., 0.],\n",
       "        [0., 1., 0., 0.],\n",
       "        [0., 1., 0., 0.],\n",
       "        ...,\n",
       "        [0., 1., 0., 0.],\n",
       "        [0., 1., 0., 0.],\n",
       "        [0., 1., 0., 0.]], dtype=float32))"
      ]
     },
     "execution_count": 1,
     "metadata": {},
     "output_type": "execute_result"
    }
   ],
   "source": [
    "''' おまけ：CNNモデルで学習させてみる '''\n",
    "\n",
    "import pandas as pd\n",
    "import numpy as np\n",
    "from sklearn.preprocessing import MinMaxScaler\n",
    "from numba import jit\n",
    "from keras.utils.np_utils import to_categorical\n",
    "\n",
    "# データフレームを読み込む\n",
    "df = pd.read_csv('USDJPY_TrailingStop2.csv', index_col='Date')\n",
    "df.index = pd.to_datetime(df.index)\n",
    "del df['ATR'], df['Open'], df['High'], df['Low'], df['Buy'], df['Sell'], df['Market']\n",
    "# 特徴量、目的変数\n",
    "x = df.loc[:, 'Close']\n",
    "y_buy = df.loc[:, 'Buy_cat']\n",
    "y_sell = df.loc[:, 'Sell_cat']\n",
    "# 訓練データ、テストデータに分割\n",
    "x_train, x_test = x[x.index < '2018'], x[x.index >= '2018']\n",
    "y_buy_train, y_buy_test = y_buy[y_buy.index < '2018'], y_buy[y_buy.index >= '2018']\n",
    "y_sell_train, y_sell_test = y_sell[y_sell.index < '2018'], y_sell[y_sell.index >= '2018']\n",
    "\n",
    "# 特徴量をClose(60)、目的変数をTrailingStop損益結果の4パターンとする\n",
    "@jit\n",
    "def gen_xy(x, y_buy, y_sell, window_len=60):\n",
    "    X, Ybuy, Ysell = [], [], []\n",
    "    for i in range(len(x) - window_len):\n",
    "        X.append(x[i : i + window_len].copy())\n",
    "        Ybuy.append(y_buy[i + window_len - 1])\n",
    "        Ysell.append(y_sell[i + window_len - 1])\n",
    "    X, Ybuy, Ysell = np.array(X), np.array(Ybuy), np.array(Ysell)\n",
    "    # 特徴量を正規化\n",
    "    scaler = MinMaxScaler()\n",
    "    scaler.fit(X) # window_len区間の価格の最大値・最小値にフィット\n",
    "    X = scaler.transform(X)\n",
    "    # 目的変数を正規化\n",
    "    Ybuy = np.where(Ybuy > 0, Ybuy + 1, Ybuy + 2)\n",
    "    Ybuy = to_categorical(Ybuy.astype('int32'))\n",
    "    Ysell = np.where(Ysell > 0, Ysell + 1, Ysell + 2)\n",
    "    Ysell = to_categorical(Ysell.astype('int32'))\n",
    "    return X, Ybuy, Ysell\n",
    "\n",
    "Xtrain, Ytrain_buy, Ytrain_sell = gen_xy(x_train.values, y_buy_train.values, y_sell_train.values)\n",
    "x_train.values.shape, x_train.values, Xtrain.shape, Xtrain, y_buy_train.values.shape, y_buy_train.values, Ytrain_buy.shape, Ytrain_buy"
   ]
  },
  {
   "cell_type": "code",
   "execution_count": 2,
   "metadata": {},
   "outputs": [
    {
     "name": "stdout",
     "output_type": "stream",
     "text": [
      "Train on 1342492 samples, validate on 149166 samples\n",
      "Epoch 1/256\n",
      "1342492/1342492 [==============================] - 13s 9us/step - loss: 1.2195 - acc: 0.4818 - val_loss: 1.2114 - val_acc: 0.4877\n",
      "Epoch 2/256\n",
      "1342492/1342492 [==============================] - 9s 6us/step - loss: 1.2170 - acc: 0.4822 - val_loss: 1.2109 - val_acc: 0.4877\n",
      "Epoch 3/256\n",
      "1342492/1342492 [==============================] - 9s 6us/step - loss: 1.2167 - acc: 0.4822 - val_loss: 1.2109 - val_acc: 0.4877\n",
      "Epoch 4/256\n",
      "1342492/1342492 [==============================] - 8s 6us/step - loss: 1.2167 - acc: 0.4822 - val_loss: 1.2110 - val_acc: 0.4877\n",
      "Epoch 5/256\n",
      "1342492/1342492 [==============================] - 9s 6us/step - loss: 1.2166 - acc: 0.4822 - val_loss: 1.2108 - val_acc: 0.4877\n",
      "Epoch 6/256\n",
      "1342492/1342492 [==============================] - 8s 6us/step - loss: 1.2166 - acc: 0.4822 - val_loss: 1.2110 - val_acc: 0.4877\n",
      "Epoch 7/256\n",
      "1342492/1342492 [==============================] - 8s 6us/step - loss: 1.2166 - acc: 0.4822 - val_loss: 1.2110 - val_acc: 0.4877\n",
      "Epoch 8/256\n",
      "1342492/1342492 [==============================] - 8s 6us/step - loss: 1.2166 - acc: 0.4822 - val_loss: 1.2114 - val_acc: 0.4877\n",
      "Epoch 9/256\n",
      "1342492/1342492 [==============================] - 9s 6us/step - loss: 1.2165 - acc: 0.4822 - val_loss: 1.2109 - val_acc: 0.4877\n"
     ]
    },
    {
     "data": {
      "text/plain": [
       "<keras.callbacks.History at 0x17fbaaccfd0>"
      ]
     },
     "execution_count": 2,
     "metadata": {},
     "output_type": "execute_result"
    }
   ],
   "source": [
    "from keras.models import Sequential\n",
    "from keras.layers import Dense\n",
    "from keras.layers import Conv1D\n",
    "from keras.layers import MaxPooling1D\n",
    "from keras.layers import Flatten\n",
    "from keras.layers import Dropout\n",
    "from keras.callbacks import EarlyStopping\n",
    "from keras.callbacks import ModelCheckpoint\n",
    "\n",
    "''' CNNで買い専用AIの訓練 '''\n",
    "\n",
    "model = Sequential()\n",
    "model.add(Conv1D(32, 3, activation='relu', padding='valid', input_shape=(60, 1)))\n",
    "model.add(MaxPooling1D(pool_size=2))\n",
    "model.add(Conv1D(64, 3, activation='relu', padding='valid'))\n",
    "model.add(MaxPooling1D(pool_size=2))\n",
    "model.add(Dropout(0.25))\n",
    "model.add(Flatten())\n",
    "model.add(Dense(250, activation='relu'))\n",
    "model.add(Dropout(0.25))\n",
    "model.add(Dense(4, activation='softmax'))\n",
    "model.compile(loss='categorical_crossentropy', optimizer='rmsprop', metrics=['acc'])\n",
    "\n",
    "early_stopping = EarlyStopping(monitor='val_acc', mode='auto', patience=8)\n",
    "model_checkpoint = ModelCheckpoint(filepath=\"17.BuyerCNN.h5\")\n",
    "\n",
    "# 訓練実行\n",
    "model.fit(Xtrain.reshape(Xtrain.shape[0], 60, 1), Ytrain_buy,\n",
    "          batch_size=2048, # 訓練データが多い場合は、ミニバッチサイズを大きくしないとオーバーフローが起きる\n",
    "          epochs=256,\n",
    "          shuffle=True,\n",
    "          validation_split=0.1, # 訓練データのうち10％を検証データとして仕様\n",
    "          callbacks=[early_stopping, model_checkpoint]\n",
    "         )"
   ]
  },
  {
   "cell_type": "code",
   "execution_count": 3,
   "metadata": {},
   "outputs": [
    {
     "name": "stdout",
     "output_type": "stream",
     "text": [
      "285854/285854 [==============================] - 12s 40us/step\n"
     ]
    },
    {
     "data": {
      "text/plain": [
       "[1.2152179759775485, 0.4825855156840822]"
      ]
     },
     "execution_count": 3,
     "metadata": {},
     "output_type": "execute_result"
    }
   ],
   "source": [
    "Xtest, Ytest_buy, Ytest_sell = gen_xy(x_test.values, y_buy_test.values, y_sell_test.values)\n",
    "model.evaluate(Xtest.reshape(Xtest.shape[0], 60, 1), Ytest_buy)"
   ]
  },
  {
   "cell_type": "markdown",
   "metadata": {},
   "source": [
    "CNNを使ってもLSTMを使ってもあまり変わらない。"
   ]
  },
  {
   "cell_type": "code",
   "execution_count": 4,
   "metadata": {},
   "outputs": [
    {
     "name": "stdout",
     "output_type": "stream",
     "text": [
      "Train on 1342492 samples, validate on 149166 samples\n",
      "Epoch 1/256\n",
      "1342492/1342492 [==============================] - 9s 7us/step - loss: 0.6637 - acc: 0.6217 - val_loss: 0.6618 - val_acc: 0.6245\n",
      "Epoch 2/256\n",
      "1342492/1342492 [==============================] - 9s 7us/step - loss: 0.6632 - acc: 0.6220 - val_loss: 0.6619 - val_acc: 0.6245\n",
      "Epoch 3/256\n",
      "1342492/1342492 [==============================] - 9s 7us/step - loss: 0.6632 - acc: 0.6220 - val_loss: 0.6620 - val_acc: 0.6245\n",
      "Epoch 4/256\n",
      "1342492/1342492 [==============================] - 9s 7us/step - loss: 0.6632 - acc: 0.6220 - val_loss: 0.6620 - val_acc: 0.6245\n",
      "Epoch 5/256\n",
      "1342492/1342492 [==============================] - 9s 7us/step - loss: 0.6632 - acc: 0.6220 - val_loss: 0.6618 - val_acc: 0.6245\n",
      "Epoch 6/256\n",
      "1342492/1342492 [==============================] - 9s 7us/step - loss: 0.6632 - acc: 0.6220 - val_loss: 0.6618 - val_acc: 0.6245\n",
      "Epoch 7/256\n",
      "1342492/1342492 [==============================] - 9s 7us/step - loss: 0.6632 - acc: 0.6220 - val_loss: 0.6618 - val_acc: 0.6245\n",
      "Epoch 8/256\n",
      "1342492/1342492 [==============================] - 9s 7us/step - loss: 0.6631 - acc: 0.6220 - val_loss: 0.6619 - val_acc: 0.6245\n",
      "Epoch 9/256\n",
      "1342492/1342492 [==============================] - 9s 7us/step - loss: 0.6631 - acc: 0.6220 - val_loss: 0.6618 - val_acc: 0.6245\n"
     ]
    },
    {
     "data": {
      "text/plain": [
       "<keras.callbacks.History at 0x17f82b4aa58>"
      ]
     },
     "execution_count": 4,
     "metadata": {},
     "output_type": "execute_result"
    }
   ],
   "source": [
    "''' 目的変数を勝てる・負けるの2パターンにして学習させてみる '''\n",
    "\n",
    "@jit\n",
    "def gen_xy(x, y_buy, y_sell, window_len=60):\n",
    "    X, Ybuy, Ysell = [], [], []\n",
    "    for i in range(len(x) - window_len):\n",
    "        X.append(x[i : i + window_len].copy())\n",
    "        Ybuy.append(y_buy[i + window_len - 1])\n",
    "        Ysell.append(y_sell[i + window_len - 1])\n",
    "    X, Ybuy, Ysell = np.array(X), np.array(Ybuy), np.array(Ysell)\n",
    "    # 特徴量を正規化\n",
    "    scaler = MinMaxScaler()\n",
    "    scaler.fit(X) # window_len区間の価格の最大値・最小値にフィット\n",
    "    X = scaler.transform(X)\n",
    "    # 目的変数を正規化\n",
    "    Ybuy = np.where(Ybuy > 0, 1, 0)\n",
    "    Ybuy = to_categorical(Ybuy.astype('int32'))\n",
    "    Ysell = np.where(Ysell > 0, 1, 0)\n",
    "    Ysell = to_categorical(Ysell.astype('int32'))\n",
    "    return X, Ybuy, Ysell\n",
    "\n",
    "Xtrain, Ytrain_buy, Ytrain_sell = gen_xy(x_train.values, y_buy_train.values, y_sell_train.values)\n",
    "\n",
    "model = Sequential()\n",
    "model.add(Conv1D(32, 3, activation='relu', padding='valid', input_shape=(60, 1)))\n",
    "model.add(MaxPooling1D(pool_size=2))\n",
    "model.add(Conv1D(64, 3, activation='relu', padding='valid'))\n",
    "model.add(MaxPooling1D(pool_size=2))\n",
    "model.add(Dropout(0.25))\n",
    "model.add(Flatten())\n",
    "model.add(Dense(250, activation='relu'))\n",
    "model.add(Dropout(0.25))\n",
    "model.add(Dense(2, activation='softmax'))\n",
    "model.compile(loss='categorical_crossentropy', optimizer='rmsprop', metrics=['acc'])\n",
    "\n",
    "early_stopping = EarlyStopping(monitor='val_acc', mode='auto', patience=8)\n",
    "model_checkpoint = ModelCheckpoint(filepath=\"17.Buyer2.h5\")\n",
    "\n",
    "# 訓練実行\n",
    "model.fit(Xtrain.reshape(Xtrain.shape[0], 60, 1), Ytrain_buy,\n",
    "          batch_size=2048,\n",
    "          epochs=256,\n",
    "          shuffle=True,\n",
    "          validation_split=0.1,\n",
    "          callbacks=[early_stopping, model_checkpoint]\n",
    "         )"
   ]
  },
  {
   "cell_type": "code",
   "execution_count": 5,
   "metadata": {},
   "outputs": [
    {
     "name": "stdout",
     "output_type": "stream",
     "text": [
      "285854/285854 [==============================] - 12s 41us/step\n"
     ]
    },
    {
     "data": {
      "text/plain": [
       "[0.6626681952004024, 0.6228879078143305]"
      ]
     },
     "execution_count": 5,
     "metadata": {},
     "output_type": "execute_result"
    }
   ],
   "source": [
    "Xtest, Ytest_buy, Ytest_sell = gen_xy(x_test.values, y_buy_test.values, y_sell_test.values)\n",
    "model.evaluate(Xtest.reshape(Xtest.shape[0], 60, 1), Ytest_buy)"
   ]
  },
  {
   "cell_type": "markdown",
   "metadata": {},
   "source": [
    "勝つ・負けるの2択なら62％の精度で予測できることが分かった。\n",
    "\n",
    "それでも、十分な精度とは言えないため、特徴量にテクニカル指標を採用するなど、いくらかの工夫が必要と思われる。"
   ]
  },
  {
   "cell_type": "code",
   "execution_count": null,
   "metadata": {},
   "outputs": [],
   "source": []
  }
 ],
 "metadata": {
  "kernelspec": {
   "display_name": "Python 3",
   "language": "python",
   "name": "python3"
  },
  "language_info": {
   "codemirror_mode": {
    "name": "ipython",
    "version": 3
   },
   "file_extension": ".py",
   "mimetype": "text/x-python",
   "name": "python",
   "nbconvert_exporter": "python",
   "pygments_lexer": "ipython3",
   "version": "3.6.8"
  }
 },
 "nbformat": 4,
 "nbformat_minor": 2
}
