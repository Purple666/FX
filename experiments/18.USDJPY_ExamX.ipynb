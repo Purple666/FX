{
 "cells": [
  {
   "cell_type": "code",
   "execution_count": 2,
   "metadata": {},
   "outputs": [
    {
     "data": {
      "text/html": [
       "<div>\n",
       "<style scoped>\n",
       "    .dataframe tbody tr th:only-of-type {\n",
       "        vertical-align: middle;\n",
       "    }\n",
       "\n",
       "    .dataframe tbody tr th {\n",
       "        vertical-align: top;\n",
       "    }\n",
       "\n",
       "    .dataframe thead th {\n",
       "        text-align: right;\n",
       "    }\n",
       "</style>\n",
       "<table border=\"1\" class=\"dataframe\">\n",
       "  <thead>\n",
       "    <tr style=\"text-align: right;\">\n",
       "      <th></th>\n",
       "      <th>Open</th>\n",
       "      <th>High</th>\n",
       "      <th>Low</th>\n",
       "      <th>Close</th>\n",
       "      <th>ATR</th>\n",
       "      <th>Buy</th>\n",
       "      <th>Sell</th>\n",
       "      <th>Buy_cat</th>\n",
       "      <th>Sell_cat</th>\n",
       "      <th>Market</th>\n",
       "    </tr>\n",
       "    <tr>\n",
       "      <th>Date</th>\n",
       "      <th></th>\n",
       "      <th></th>\n",
       "      <th></th>\n",
       "      <th></th>\n",
       "      <th></th>\n",
       "      <th></th>\n",
       "      <th></th>\n",
       "      <th></th>\n",
       "      <th></th>\n",
       "      <th></th>\n",
       "    </tr>\n",
       "  </thead>\n",
       "  <tbody>\n",
       "    <tr>\n",
       "      <th>2014-01-02 07:21:00</th>\n",
       "      <td>105.351</td>\n",
       "      <td>105.368</td>\n",
       "      <td>105.351</td>\n",
       "      <td>105.354</td>\n",
       "      <td>0.017400</td>\n",
       "      <td>-0.016200</td>\n",
       "      <td>0.034200</td>\n",
       "      <td>-1</td>\n",
       "      <td>1</td>\n",
       "      <td>-1</td>\n",
       "    </tr>\n",
       "    <tr>\n",
       "      <th>2014-01-02 07:22:00</th>\n",
       "      <td>105.355</td>\n",
       "      <td>105.355</td>\n",
       "      <td>105.355</td>\n",
       "      <td>105.355</td>\n",
       "      <td>0.016580</td>\n",
       "      <td>-0.014740</td>\n",
       "      <td>0.030740</td>\n",
       "      <td>-1</td>\n",
       "      <td>1</td>\n",
       "      <td>-1</td>\n",
       "    </tr>\n",
       "    <tr>\n",
       "      <th>2014-01-02 07:23:00</th>\n",
       "      <td>105.355</td>\n",
       "      <td>105.355</td>\n",
       "      <td>105.351</td>\n",
       "      <td>105.351</td>\n",
       "      <td>0.015951</td>\n",
       "      <td>-0.033853</td>\n",
       "      <td>0.032853</td>\n",
       "      <td>-1</td>\n",
       "      <td>1</td>\n",
       "      <td>-1</td>\n",
       "    </tr>\n",
       "    <tr>\n",
       "      <th>2014-01-02 07:24:00</th>\n",
       "      <td>105.354</td>\n",
       "      <td>105.355</td>\n",
       "      <td>105.349</td>\n",
       "      <td>105.355</td>\n",
       "      <td>0.015453</td>\n",
       "      <td>-0.036360</td>\n",
       "      <td>0.027360</td>\n",
       "      <td>-1</td>\n",
       "      <td>1</td>\n",
       "      <td>-1</td>\n",
       "    </tr>\n",
       "    <tr>\n",
       "      <th>2014-01-02 07:25:00</th>\n",
       "      <td>105.355</td>\n",
       "      <td>105.381</td>\n",
       "      <td>105.354</td>\n",
       "      <td>105.365</td>\n",
       "      <td>0.016031</td>\n",
       "      <td>-0.023092</td>\n",
       "      <td>0.019092</td>\n",
       "      <td>-1</td>\n",
       "      <td>1</td>\n",
       "      <td>-1</td>\n",
       "    </tr>\n",
       "  </tbody>\n",
       "</table>\n",
       "</div>"
      ],
      "text/plain": [
       "                        Open     High      Low    Close       ATR       Buy  \\\n",
       "Date                                                                          \n",
       "2014-01-02 07:21:00  105.351  105.368  105.351  105.354  0.017400 -0.016200   \n",
       "2014-01-02 07:22:00  105.355  105.355  105.355  105.355  0.016580 -0.014740   \n",
       "2014-01-02 07:23:00  105.355  105.355  105.351  105.351  0.015951 -0.033853   \n",
       "2014-01-02 07:24:00  105.354  105.355  105.349  105.355  0.015453 -0.036360   \n",
       "2014-01-02 07:25:00  105.355  105.381  105.354  105.365  0.016031 -0.023092   \n",
       "\n",
       "                         Sell  Buy_cat  Sell_cat  Market  \n",
       "Date                                                      \n",
       "2014-01-02 07:21:00  0.034200       -1         1      -1  \n",
       "2014-01-02 07:22:00  0.030740       -1         1      -1  \n",
       "2014-01-02 07:23:00  0.032853       -1         1      -1  \n",
       "2014-01-02 07:24:00  0.027360       -1         1      -1  \n",
       "2014-01-02 07:25:00  0.019092       -1         1      -1  "
      ]
     },
     "execution_count": 2,
     "metadata": {},
     "output_type": "execute_result"
    }
   ],
   "source": [
    "import pandas as pd\n",
    "\n",
    "# データフレームを読み込む\n",
    "df = pd.read_csv('USDJPY_TrailingStop2.csv', index_col='Date')\n",
    "df.index = pd.to_datetime(df.index)\n",
    "df.head()"
   ]
  },
  {
   "cell_type": "code",
   "execution_count": 12,
   "metadata": {},
   "outputs": [
    {
     "name": "stdout",
     "output_type": "stream",
     "text": [
      "Elapsed Time: 34.18354845046997 sec\n"
     ]
    },
    {
     "data": {
      "text/plain": [
       "((1491698, 2, 20),\n",
       " array([[[0.59259259, 0.62962963, 0.48148148, ..., 0.18518519,\n",
       "          0.11111111, 0.25925926],\n",
       "         [1.        , 0.84474123, 0.7256464 , ..., 0.18599441,\n",
       "          0.08090292, 0.        ]],\n",
       " \n",
       "        [[0.62962963, 0.48148148, 0.62962963, ..., 0.11111111,\n",
       "          0.25925926, 0.11111111],\n",
       "         [0.90353672, 0.78677601, 0.69441625, ..., 0.15466876,\n",
       "          0.07535145, 0.        ]],\n",
       " \n",
       "        [[0.48148148, 0.62962963, 1.        , ..., 0.25925926,\n",
       "          0.11111111, 0.51851852],\n",
       "         [0.78677601, 0.69441625, 0.80158504, ..., 0.07535145,\n",
       "          0.        , 0.06763796]],\n",
       " \n",
       "        ...,\n",
       " \n",
       "        [[0.18181818, 0.40909091, 0.63636364, ..., 0.59090909,\n",
       "          0.68181818, 0.5       ],\n",
       "         [0.55534469, 0.57311044, 0.51306721, ..., 0.90346236,\n",
       "          0.90382222, 0.88493392]],\n",
       " \n",
       "        [[0.40909091, 0.63636364, 0.63636364, ..., 0.68181818,\n",
       "          0.5       , 0.40909091],\n",
       "         [0.57311044, 0.51306721, 0.35987529, ..., 0.90382222,\n",
       "          0.88493392, 0.88622021]],\n",
       " \n",
       "        [[0.63636364, 0.63636364, 0.63636364, ..., 0.5       ,\n",
       "          0.40909091, 0.27272727],\n",
       "         [0.51306721, 0.35987529, 0.23357314, ..., 0.88493392,\n",
       "          0.88622021, 0.84898184]]]),\n",
       " (1491698, 4),\n",
       " array([[0., 1., 0., 0.],\n",
       "        [0., 1., 0., 0.],\n",
       "        [0., 1., 0., 0.],\n",
       "        ...,\n",
       "        [0., 1., 0., 0.],\n",
       "        [0., 1., 0., 0.],\n",
       "        [0., 1., 0., 0.]], dtype=float32))"
      ]
     },
     "execution_count": 12,
     "metadata": {},
     "output_type": "execute_result"
    }
   ],
   "source": [
    "import time\n",
    "import numpy as np\n",
    "from numba import jit\n",
    "from keras.utils.np_utils import to_categorical\n",
    "\n",
    "# 特徴量を[Close[20], ATR(20)[20]]、目的変数をTrailingStop損益結果の4パターンとする\n",
    "@jit\n",
    "def gen_xy(close, atr, y, window_len=20):\n",
    "    X, Y = [], []\n",
    "    for i in range(len(close) - window_len):\n",
    "        # 特徴量を正規化しながら追加\n",
    "        C = close[i : i + window_len].copy()\n",
    "        C -= np.min(C)\n",
    "        C /= np.max(C)\n",
    "        A = atr[i : i + window_len].copy()\n",
    "        A -= np.min(A)\n",
    "        A /= np.max(A)\n",
    "        X.append([C, A])\n",
    "        # 目的変数を追加\n",
    "        Y.append(y[i + window_len - 1])\n",
    "    X, Y = np.array(X), np.array(Y)\n",
    "    # 目的変数を正規化\n",
    "    Y = np.where(Y > 0, Y + 1, Y + 2)\n",
    "    Y = to_categorical(Y.astype('int32'))\n",
    "    return X, Y\n",
    "\n",
    "# 学習データとテストデートに分ける\n",
    "train, test = df[df.index < '2018'], df[df.index >= '2018']\n",
    "# 学習データ準備\n",
    "start = time.time()\n",
    "Xtrain, Ytrain = gen_xy(train.loc[:, 'Close'].values, train.loc[:, 'ATR'].values, train.loc[:, 'Buy_cat'].values)\n",
    "print('Elapsed Time: {0} sec'.format(time.time() - start))\n",
    "Xtrain.shape, Xtrain, Ytrain.shape, Ytrain"
   ]
  },
  {
   "cell_type": "code",
   "execution_count": 32,
   "metadata": {},
   "outputs": [
    {
     "name": "stdout",
     "output_type": "stream",
     "text": [
      "Train on 1342528 samples, validate on 149170 samples\n",
      "Epoch 1/256\n",
      "1342528/1342528 [==============================] - 9s 7us/step - loss: 1.2200 - acc: 0.4820 - val_loss: 1.2111 - val_acc: 0.4877\n",
      "Epoch 2/256\n",
      "1342528/1342528 [==============================] - 6s 5us/step - loss: 1.2169 - acc: 0.4822 - val_loss: 1.2107 - val_acc: 0.4877\n",
      "Epoch 3/256\n",
      "1342528/1342528 [==============================] - 6s 5us/step - loss: 1.2165 - acc: 0.4822 - val_loss: 1.2109 - val_acc: 0.4877\n",
      "Epoch 4/256\n",
      "1342528/1342528 [==============================] - 6s 5us/step - loss: 1.2163 - acc: 0.4822 - val_loss: 1.2121 - val_acc: 0.4877\n",
      "Epoch 5/256\n",
      "1342528/1342528 [==============================] - 6s 5us/step - loss: 1.2161 - acc: 0.4822 - val_loss: 1.2106 - val_acc: 0.4877\n",
      "Epoch 6/256\n",
      "1342528/1342528 [==============================] - 6s 5us/step - loss: 1.2159 - acc: 0.4822 - val_loss: 1.2110 - val_acc: 0.4877\n",
      "Epoch 7/256\n",
      "1342528/1342528 [==============================] - 6s 5us/step - loss: 1.2158 - acc: 0.4822 - val_loss: 1.2113 - val_acc: 0.4877\n",
      "Epoch 8/256\n",
      "1342528/1342528 [==============================] - 6s 5us/step - loss: 1.2157 - acc: 0.4822 - val_loss: 1.2107 - val_acc: 0.4877\n",
      "Epoch 9/256\n",
      "1342528/1342528 [==============================] - 6s 5us/step - loss: 1.2156 - acc: 0.4822 - val_loss: 1.2109 - val_acc: 0.4877\n"
     ]
    },
    {
     "data": {
      "text/plain": [
       "<keras.callbacks.History at 0x28f85fce518>"
      ]
     },
     "execution_count": 32,
     "metadata": {},
     "output_type": "execute_result"
    }
   ],
   "source": [
    "from keras.models import Sequential\n",
    "from keras.layers import Dense\n",
    "from keras.layers import Conv1D\n",
    "from keras.layers import MaxPooling1D\n",
    "from keras.layers import Flatten\n",
    "from keras.layers import Dropout\n",
    "from keras.callbacks import EarlyStopping\n",
    "from keras.callbacks import ModelCheckpoint\n",
    "\n",
    "# CNNで訓練\n",
    "model = Sequential()\n",
    "model.add(Conv1D(32, 3, activation='relu', padding='valid', input_shape=(20, 2))) # 入力は [Close[20], ATR(20)[20]]\n",
    "model.add(MaxPooling1D(pool_size=2))\n",
    "model.add(Conv1D(64, 3, activation='relu', padding='valid'))\n",
    "model.add(MaxPooling1D(pool_size=2))\n",
    "model.add(Dropout(0.25))\n",
    "model.add(Flatten())\n",
    "model.add(Dense(256, activation='relu'))\n",
    "model.add(Dropout(0.5))\n",
    "model.add(Dense(4, activation='softmax')) # 出力は 損益の4パターン\n",
    "model.compile(loss='categorical_crossentropy', optimizer='rmsprop', metrics=['acc'])\n",
    "\n",
    "early_stopping = EarlyStopping(monitor='val_acc', mode='auto', patience=8)\n",
    "model_checkpoint = ModelCheckpoint(filepath=\"18.Buyer.h5\")\n",
    "\n",
    "# 訓練実行\n",
    "model.fit(Xtrain.reshape(Xtrain.shape[0], 20, 2), Ytrain,\n",
    "          batch_size=2048, # 訓練データが多い場合は、ミニバッチサイズを大きくしないとオーバーフローが起きる\n",
    "          epochs=256,\n",
    "          shuffle=True,\n",
    "          validation_split=0.1, # 訓練データのうち10％を検証データとして仕様\n",
    "          callbacks=[early_stopping, model_checkpoint]\n",
    "         )"
   ]
  },
  {
   "cell_type": "code",
   "execution_count": 33,
   "metadata": {},
   "outputs": [
    {
     "name": "stdout",
     "output_type": "stream",
     "text": [
      "285894/285894 [==============================] - 12s 41us/step\n"
     ]
    },
    {
     "data": {
      "text/plain": [
       "[1.214872032103936, 0.48251799618040253]"
      ]
     },
     "execution_count": 33,
     "metadata": {},
     "output_type": "execute_result"
    }
   ],
   "source": [
    "Xtest, Ytest = gen_xy(test.loc[:, 'Close'].values, test.loc[:, 'ATR'].values, test.loc[:, 'Buy_cat'].values)\n",
    "model.evaluate(Xtest.reshape(Xtest.shape[0], 20, 2), Ytest)"
   ]
  },
  {
   "cell_type": "code",
   "execution_count": 35,
   "metadata": {},
   "outputs": [
    {
     "data": {
      "text/plain": [
       "(1777632,\n",
       " 1777632,\n",
       " array([        nan,         nan, 20.        , ..., 50.10694406,\n",
       "        55.51786675, 29.72679789]))"
      ]
     },
     "execution_count": 35,
     "metadata": {},
     "output_type": "execute_result"
    }
   ],
   "source": [
    "''' テクニカル指標を追加 '''\n",
    "import talib\n",
    "\n",
    "rsi2 = talib.RSI(df['Close'].values, timeperiod=2)\n",
    "len(df.index), len(rsi2), rsi2"
   ]
  },
  {
   "cell_type": "code",
   "execution_count": 36,
   "metadata": {},
   "outputs": [
    {
     "data": {
      "text/plain": [
       "(array([         nan,          nan, 105.35333333, ..., 113.71796483,\n",
       "        113.71898242, 113.71549121]),\n",
       " array([         nan,          nan,          nan, ..., 113.70911665,\n",
       "        113.71129332, 113.71143465]),\n",
       " array([         nan,          nan,          nan, ..., 113.69566548,\n",
       "        113.69740366, 113.69844625]))"
      ]
     },
     "execution_count": 36,
     "metadata": {},
     "output_type": "execute_result"
    }
   ],
   "source": [
    "ema3  = talib.EMA(df['Close'].values, timeperiod=3)\n",
    "ema9  = talib.EMA(df['Close'].values, timeperiod=9)\n",
    "ema27 = talib.EMA(df['Close'].values, timeperiod=27)\n",
    "ema3, ema9, ema27"
   ]
  },
  {
   "cell_type": "code",
   "execution_count": 37,
   "metadata": {},
   "outputs": [
    {
     "data": {
      "text/html": [
       "<div>\n",
       "<style scoped>\n",
       "    .dataframe tbody tr th:only-of-type {\n",
       "        vertical-align: middle;\n",
       "    }\n",
       "\n",
       "    .dataframe tbody tr th {\n",
       "        vertical-align: top;\n",
       "    }\n",
       "\n",
       "    .dataframe thead th {\n",
       "        text-align: right;\n",
       "    }\n",
       "</style>\n",
       "<table border=\"1\" class=\"dataframe\">\n",
       "  <thead>\n",
       "    <tr style=\"text-align: right;\">\n",
       "      <th></th>\n",
       "      <th>Open</th>\n",
       "      <th>High</th>\n",
       "      <th>Low</th>\n",
       "      <th>Close</th>\n",
       "      <th>ATR</th>\n",
       "      <th>Buy</th>\n",
       "      <th>Sell</th>\n",
       "      <th>Buy_cat</th>\n",
       "      <th>Sell_cat</th>\n",
       "      <th>RSI</th>\n",
       "      <th>EMA3</th>\n",
       "      <th>EMA9</th>\n",
       "      <th>EMA27</th>\n",
       "    </tr>\n",
       "    <tr>\n",
       "      <th>Date</th>\n",
       "      <th></th>\n",
       "      <th></th>\n",
       "      <th></th>\n",
       "      <th></th>\n",
       "      <th></th>\n",
       "      <th></th>\n",
       "      <th></th>\n",
       "      <th></th>\n",
       "      <th></th>\n",
       "      <th></th>\n",
       "      <th></th>\n",
       "      <th></th>\n",
       "      <th></th>\n",
       "    </tr>\n",
       "  </thead>\n",
       "  <tbody>\n",
       "    <tr>\n",
       "      <th>2014-01-02 07:50:00</th>\n",
       "      <td>105.347</td>\n",
       "      <td>105.369</td>\n",
       "      <td>105.347</td>\n",
       "      <td>105.357</td>\n",
       "      <td>0.011706</td>\n",
       "      <td>-0.027117</td>\n",
       "      <td>0.014117</td>\n",
       "      <td>-1</td>\n",
       "      <td>1</td>\n",
       "      <td>74.059924</td>\n",
       "      <td>105.353628</td>\n",
       "      <td>105.349644</td>\n",
       "      <td>105.347815</td>\n",
       "    </tr>\n",
       "    <tr>\n",
       "      <th>2014-01-02 07:51:00</th>\n",
       "      <td>105.356</td>\n",
       "      <td>105.367</td>\n",
       "      <td>105.356</td>\n",
       "      <td>105.357</td>\n",
       "      <td>0.011670</td>\n",
       "      <td>-0.027011</td>\n",
       "      <td>0.014011</td>\n",
       "      <td>-1</td>\n",
       "      <td>1</td>\n",
       "      <td>74.059924</td>\n",
       "      <td>105.355314</td>\n",
       "      <td>105.351115</td>\n",
       "      <td>105.348471</td>\n",
       "    </tr>\n",
       "    <tr>\n",
       "      <th>2014-01-02 07:52:00</th>\n",
       "      <td>105.358</td>\n",
       "      <td>105.364</td>\n",
       "      <td>105.357</td>\n",
       "      <td>105.358</td>\n",
       "      <td>0.011437</td>\n",
       "      <td>-0.027310</td>\n",
       "      <td>0.012310</td>\n",
       "      <td>-1</td>\n",
       "      <td>1</td>\n",
       "      <td>79.819138</td>\n",
       "      <td>105.356657</td>\n",
       "      <td>105.352492</td>\n",
       "      <td>105.349152</td>\n",
       "    </tr>\n",
       "    <tr>\n",
       "      <th>2014-01-02 07:53:00</th>\n",
       "      <td>105.360</td>\n",
       "      <td>105.360</td>\n",
       "      <td>105.358</td>\n",
       "      <td>105.358</td>\n",
       "      <td>0.010965</td>\n",
       "      <td>-0.025895</td>\n",
       "      <td>0.010895</td>\n",
       "      <td>-1</td>\n",
       "      <td>1</td>\n",
       "      <td>79.819138</td>\n",
       "      <td>105.357328</td>\n",
       "      <td>105.353594</td>\n",
       "      <td>105.349784</td>\n",
       "    </tr>\n",
       "    <tr>\n",
       "      <th>2014-01-02 07:54:00</th>\n",
       "      <td>105.353</td>\n",
       "      <td>105.358</td>\n",
       "      <td>105.353</td>\n",
       "      <td>105.358</td>\n",
       "      <td>0.010667</td>\n",
       "      <td>-0.025000</td>\n",
       "      <td>0.010000</td>\n",
       "      <td>-1</td>\n",
       "      <td>1</td>\n",
       "      <td>79.819138</td>\n",
       "      <td>105.357664</td>\n",
       "      <td>105.354475</td>\n",
       "      <td>105.350370</td>\n",
       "    </tr>\n",
       "  </tbody>\n",
       "</table>\n",
       "</div>"
      ],
      "text/plain": [
       "                        Open     High      Low    Close       ATR       Buy  \\\n",
       "Date                                                                          \n",
       "2014-01-02 07:50:00  105.347  105.369  105.347  105.357  0.011706 -0.027117   \n",
       "2014-01-02 07:51:00  105.356  105.367  105.356  105.357  0.011670 -0.027011   \n",
       "2014-01-02 07:52:00  105.358  105.364  105.357  105.358  0.011437 -0.027310   \n",
       "2014-01-02 07:53:00  105.360  105.360  105.358  105.358  0.010965 -0.025895   \n",
       "2014-01-02 07:54:00  105.353  105.358  105.353  105.358  0.010667 -0.025000   \n",
       "\n",
       "                         Sell  Buy_cat  Sell_cat        RSI        EMA3  \\\n",
       "Date                                                                      \n",
       "2014-01-02 07:50:00  0.014117       -1         1  74.059924  105.353628   \n",
       "2014-01-02 07:51:00  0.014011       -1         1  74.059924  105.355314   \n",
       "2014-01-02 07:52:00  0.012310       -1         1  79.819138  105.356657   \n",
       "2014-01-02 07:53:00  0.010895       -1         1  79.819138  105.357328   \n",
       "2014-01-02 07:54:00  0.010000       -1         1  79.819138  105.357664   \n",
       "\n",
       "                           EMA9       EMA27  \n",
       "Date                                         \n",
       "2014-01-02 07:50:00  105.349644  105.347815  \n",
       "2014-01-02 07:51:00  105.351115  105.348471  \n",
       "2014-01-02 07:52:00  105.352492  105.349152  \n",
       "2014-01-02 07:53:00  105.353594  105.349784  \n",
       "2014-01-02 07:54:00  105.354475  105.350370  "
      ]
     },
     "execution_count": 37,
     "metadata": {},
     "output_type": "execute_result"
    }
   ],
   "source": [
    "df['RSI'], df['EMA3'], df['EMA9'], df['EMA27'] = rsi2, ema3, ema9, ema27\n",
    "csv = df.dropna(how='any')\n",
    "del csv['Market']\n",
    "csv.to_csv('USDJPY_Technical.csv')\n",
    "csv.head()"
   ]
  },
  {
   "cell_type": "code",
   "execution_count": 40,
   "metadata": {},
   "outputs": [
    {
     "name": "stderr",
     "output_type": "stream",
     "text": [
      "C:\\App\\Miniconda3\\envs\\py35-ml\\lib\\site-packages\\ipykernel_launcher.py:27: RuntimeWarning: invalid value encountered in true_divide\n"
     ]
    },
    {
     "name": "stdout",
     "output_type": "stream",
     "text": [
      "Elapsed Time: 79.20339560508728 sec\n"
     ]
    },
    {
     "data": {
      "text/plain": [
       "((1491602, 10, 5),\n",
       " array([[[1.        , 0.97123335, 0.78083393, 0.39611563, 0.15293655],\n",
       "         [0.28882639, 0.37715397, 0.0941552 , 0.19221633, 0.        ],\n",
       "         [0.64764955, 0.64764955, 0.73068753, 0.73068753, 0.73068753],\n",
       "         ...,\n",
       "         [0.55176272, 0.52352679, 0.61730889, 1.        , 0.80584486],\n",
       "         [0.76866714, 0.8720357 , 0.91163094, 0.99257532, 1.        ],\n",
       "         [0.77688939, 0.47359473, 0.36936674, 0.40242755, 0.        ]],\n",
       " \n",
       "        [[1.        , 0.8078264 , 0.41952319, 0.17407811, 0.3112342 ],\n",
       "         [0.40038484, 0.11474902, 0.21372391, 0.01971645, 0.        ],\n",
       "         [0.68597663, 0.75998212, 0.75998212, 0.75998212, 1.        ],\n",
       "         ...,\n",
       "         [0.55481917, 0.59173521, 0.65422986, 1.        , 0.79280194],\n",
       "         [0.79106804, 0.88429934, 0.93127807, 0.99922089, 1.        ],\n",
       "         [0.75655367, 0.44946135, 0.39747069, 0.38324605, 0.        ]],\n",
       " \n",
       "        [[0.68777439, 0.35717737, 0.14820816, 0.26498133, 0.34088319],\n",
       "         [0.09769603, 0.18196215, 0.01678637, 0.        , 1.        ],\n",
       "         [0.80150818, 0.80150818, 0.80150818, 1.        , 0.32041422],\n",
       "         ...,\n",
       "         [0.55155265, 0.60116577, 0.86849188, 1.        , 0.76045787],\n",
       "         [0.80848331, 0.86772075, 0.94023813, 1.        , 0.99243557],\n",
       "         [0.73553924, 0.4145332 , 0.42374865, 0.34925651, 0.        ]],\n",
       " \n",
       "        ...,\n",
       " \n",
       "        [[1.        , 0.59071024, 0.58516393, 0.19661598, 0.78569284],\n",
       "         [0.7703974 , 0.46840751, 0.27733686, 0.        , 0.11980895],\n",
       "         [0.63479642, 0.63479642, 0.94103898, 0.94103898, 0.99433273],\n",
       "         ...,\n",
       "         [0.93851201, 1.        , 0.86065331, 0.67699987, 0.29251776],\n",
       "         [0.        , 0.18855567, 0.31799842, 0.22382854, 0.43024766],\n",
       "         [0.55679589, 0.66169293, 0.75814143, 0.87529434, 1.        ]],\n",
       " \n",
       "        [[0.4956351 , 0.49098148, 0.16497053, 0.65923514, 0.64640152],\n",
       "         [0.39301707, 0.23269934, 0.        , 0.10052563, 1.        ],\n",
       "         [0.7277148 , 0.95604038, 0.95604038, 0.99577465, 0.99822008],\n",
       "         ...,\n",
       "         [1.        , 0.97296794, 0.84642548, 0.63864223, 0.30908043],\n",
       "         [0.        , 0.20879918, 0.32270549, 0.2212246 , 0.46368453],\n",
       "         [0.59365858, 0.6526098 , 0.80130688, 0.89805028, 1.        ]],\n",
       " \n",
       "        [[0.26475131, 0.08895685, 0.35547852, 0.34855826, 0.21192609],\n",
       "         [0.12547817, 0.        , 0.05420631, 0.53922871, 1.        ],\n",
       "         [0.95604038, 0.95604038, 0.99577465, 0.99822008, 0.99881843],\n",
       "         ...,\n",
       "         [1.        , 0.88550918, 0.71172951, 0.47074264, 0.38236611],\n",
       "         [0.        , 0.21442216, 0.30990927, 0.2239924 , 0.47868635],\n",
       "         [0.58523366, 0.63202404, 0.81720611, 0.89318184, 1.        ]]]),\n",
       " (1491602, 4),\n",
       " array([[1., 0., 0., 0.],\n",
       "        [0., 1., 0., 0.],\n",
       "        [0., 0., 1., 0.],\n",
       "        ...,\n",
       "        [1., 0., 0., 0.],\n",
       "        [0., 1., 0., 0.],\n",
       "        [1., 0., 0., 0.]], dtype=float32))"
      ]
     },
     "execution_count": 40,
     "metadata": {},
     "output_type": "execute_result"
    }
   ],
   "source": [
    "'''\n",
    "特徴量: (10, 5)\n",
    "    [ATR(20)[0:10], RSI(2)[0:10], EMA(3)[0:10], EMA(9)[0:30:3], EMA(27)[0:90:9]]\n",
    "目的変数: TrailingStop損益結果の4パターン\n",
    "'''\n",
    "@jit\n",
    "def gen_xy(atr, rsi, ema3, ema9, ema27, y, window_len=10):\n",
    "    X, Y = [], []\n",
    "    for i in range(len(atr) - window_len * 9):\n",
    "        # 特徴量を正規化しながら追加\n",
    "        A, R, E3, E9, E27 = atr[i : i + window_len].copy(), rsi[i : i + window_len].copy(), ema3[i : i + window_len].copy(), ema9[i : i + window_len * 3 : 3].copy(), ema27[i : i + window_len * 9 : 9].copy()\n",
    "        A, R, E3, E9, E27 = A - np.min(A), R - np.min(R), E3 - np.min(E3), E9 - np.min(E9), E27 - np.min(E27)\n",
    "        A, R, E3, E9, E27 = A / np.max(A), R / np.max(R), E3 / np.max(E3), E9 / np.max(E9), E27 / np.max(E27)\n",
    "        X.append([A, R, E3, E9, E27])\n",
    "        # 目的変数を追加\n",
    "        Y.append(y[i + window_len - 1])\n",
    "    X, Y = np.array(X), np.array(Y)\n",
    "    # 目的変数を正規化\n",
    "    Y = np.where(Y > 0, Y + 1, Y + 2)\n",
    "    Y = to_categorical(Y.astype('int32'))\n",
    "    return X.reshape(X.shape[0], window_len, 5), Y\n",
    "\n",
    "# 学習データとテストデートに分ける\n",
    "train, test = csv[csv.index < '2018'], csv[csv.index >= '2018']\n",
    "# 学習データ準備\n",
    "start = time.time()\n",
    "Xtrain, Ytrain = gen_xy(train.loc[:, 'ATR'].values, train.loc[:, 'RSI'].values, train.loc[:, 'EMA3'].values, train.loc[:, 'EMA9'].values, train.loc[:, 'EMA27'].values, train.loc[:, 'Buy_cat'].values)\n",
    "print('Elapsed Time: {0} sec'.format(time.time() - start))\n",
    "Xtrain.shape, Xtrain, Ytrain.shape, Ytrain"
   ]
  },
  {
   "cell_type": "code",
   "execution_count": 41,
   "metadata": {},
   "outputs": [
    {
     "name": "stdout",
     "output_type": "stream",
     "text": [
      "Train on 1342441 samples, validate on 149161 samples\n",
      "Epoch 1/256\n",
      "1342441/1342441 [==============================] - 8s 6us/step - loss: 1.2095 - acc: 0.4859 - val_loss: 1.2112 - val_acc: 0.4876\n",
      "Epoch 2/256\n",
      "1342441/1342441 [==============================] - 7s 5us/step - loss: 1.2173 - acc: 0.4822 - val_loss: 1.2110 - val_acc: 0.4876\n",
      "Epoch 3/256\n",
      "1342441/1342441 [==============================] - 7s 5us/step - loss: 1.2170 - acc: 0.4822 - val_loss: 1.2114 - val_acc: 0.4876\n",
      "Epoch 4/256\n",
      "1342441/1342441 [==============================] - 7s 5us/step - loss: 1.2168 - acc: 0.4822 - val_loss: 1.2110 - val_acc: 0.4876\n",
      "Epoch 5/256\n",
      "1342441/1342441 [==============================] - 7s 5us/step - loss: 1.2168 - acc: 0.4822 - val_loss: 1.2113 - val_acc: 0.4876\n",
      "Epoch 6/256\n",
      "1342441/1342441 [==============================] - 7s 5us/step - loss: 1.2167 - acc: 0.4822 - val_loss: 1.2111 - val_acc: 0.4876\n",
      "Epoch 7/256\n",
      "1342441/1342441 [==============================] - 7s 5us/step - loss: 1.2166 - acc: 0.4822 - val_loss: 1.2116 - val_acc: 0.4876\n",
      "Epoch 8/256\n",
      "1342441/1342441 [==============================] - 8s 6us/step - loss: 1.2166 - acc: 0.4822 - val_loss: 1.2112 - val_acc: 0.4876\n",
      "Epoch 9/256\n",
      "1342441/1342441 [==============================] - 7s 6us/step - loss: 1.2165 - acc: 0.4822 - val_loss: 1.2110 - val_acc: 0.4876\n"
     ]
    },
    {
     "data": {
      "text/plain": [
       "<keras.callbacks.History at 0x28f9deb7ac8>"
      ]
     },
     "execution_count": 41,
     "metadata": {},
     "output_type": "execute_result"
    }
   ],
   "source": [
    "# CNNで訓練\n",
    "model = Sequential()\n",
    "model.add(Conv1D(64, 3, activation='relu', padding='valid', input_shape=(10, 5)))\n",
    "model.add(MaxPooling1D(pool_size=2))\n",
    "model.add(Conv1D(128, 3, activation='relu', padding='valid'))\n",
    "model.add(MaxPooling1D(pool_size=2))\n",
    "model.add(Dropout(0.25))\n",
    "model.add(Flatten())\n",
    "model.add(Dense(256, activation='relu'))\n",
    "model.add(Dropout(0.5))\n",
    "model.add(Dense(4, activation='softmax')) # 出力は 損益の4パターン\n",
    "model.compile(loss='categorical_crossentropy', optimizer='rmsprop', metrics=['acc'])\n",
    "\n",
    "early_stopping = EarlyStopping(monitor='val_acc', mode='auto', patience=8)\n",
    "model_checkpoint = ModelCheckpoint(filepath=\"18.Buyer.h5\")\n",
    "\n",
    "# 訓練実行\n",
    "model.fit(Xtrain, Ytrain,\n",
    "          batch_size=2048, # 訓練データが多い場合は、ミニバッチサイズを大きくしないとオーバーフローが起きる\n",
    "          epochs=256,\n",
    "          shuffle=True,\n",
    "          validation_split=0.1, # 訓練データのうち10％を検証データとして仕様\n",
    "          callbacks=[early_stopping, model_checkpoint]\n",
    "         )"
   ]
  },
  {
   "cell_type": "code",
   "execution_count": 42,
   "metadata": {},
   "outputs": [
    {
     "name": "stdout",
     "output_type": "stream",
     "text": [
      "285824/285824 [==============================] - 13s 44us/step\n"
     ]
    },
    {
     "data": {
      "text/plain": [
       "[1.2152984628242811, 0.4825556986117331]"
      ]
     },
     "execution_count": 42,
     "metadata": {},
     "output_type": "execute_result"
    }
   ],
   "source": [
    "Xtest, Ytest = gen_xy(test.loc[:, 'ATR'].values, test.loc[:, 'RSI'].values, test.loc[:, 'EMA3'], test.loc[:, 'EMA9'], test.loc[:, 'EMA27'], test.loc[:, 'Buy_cat'].values)\n",
    "model.evaluate(Xtest, Ytest)"
   ]
  },
  {
   "cell_type": "code",
   "execution_count": 46,
   "metadata": {},
   "outputs": [
    {
     "name": "stdout",
     "output_type": "stream",
     "text": [
      "Train on 1342441 samples, validate on 149161 samples\n",
      "Epoch 1/256\n",
      "1342441/1342441 [==============================] - 8s 6us/step - loss: 0.6588 - acc: 0.6261 - val_loss: 0.6619 - val_acc: 0.6245\n",
      "Epoch 2/256\n",
      "1342441/1342441 [==============================] - 7s 5us/step - loss: 0.6633 - acc: 0.6220 - val_loss: 0.6620 - val_acc: 0.6245\n",
      "Epoch 3/256\n",
      "1342441/1342441 [==============================] - 7s 5us/step - loss: 0.6632 - acc: 0.6220 - val_loss: 0.6623 - val_acc: 0.6245\n",
      "Epoch 4/256\n",
      "1342441/1342441 [==============================] - 7s 5us/step - loss: 0.6632 - acc: 0.6220 - val_loss: 0.6619 - val_acc: 0.6245\n",
      "Epoch 5/256\n",
      "1342441/1342441 [==============================] - 7s 5us/step - loss: 0.6632 - acc: 0.6220 - val_loss: 0.6620 - val_acc: 0.6245\n",
      "Epoch 6/256\n",
      "1342441/1342441 [==============================] - 7s 5us/step - loss: 0.6631 - acc: 0.6220 - val_loss: 0.6618 - val_acc: 0.6245\n",
      "Epoch 7/256\n",
      "1342441/1342441 [==============================] - 7s 5us/step - loss: 0.6631 - acc: 0.6220 - val_loss: 0.6618 - val_acc: 0.6245\n",
      "Epoch 8/256\n",
      "1342441/1342441 [==============================] - 7s 5us/step - loss: 0.6631 - acc: 0.6220 - val_loss: 0.6618 - val_acc: 0.6245\n",
      "Epoch 9/256\n",
      "1342441/1342441 [==============================] - 7s 5us/step - loss: 0.6631 - acc: 0.6220 - val_loss: 0.6618 - val_acc: 0.6245\n"
     ]
    },
    {
     "data": {
      "text/plain": [
       "<keras.callbacks.History at 0x28f8b30fe10>"
      ]
     },
     "execution_count": 46,
     "metadata": {},
     "output_type": "execute_result"
    }
   ],
   "source": [
    "''' 目的変数を「勝てる・負ける」の2パターンにして学習 '''\n",
    "\n",
    "Y = np.argmax(Ytrain, axis=1) # 目的変数を0～3のカテゴリに戻す\n",
    "Y = np.where(Y > 1, 1, 0) # 売買結果を「勝てる・負ける」の2パターンに変換\n",
    "Y = to_categorical(Y.astype('int32'))\n",
    "\n",
    "model = Sequential()\n",
    "model.add(Conv1D(64, 3, activation='relu', padding='valid', input_shape=(10, 5)))\n",
    "model.add(MaxPooling1D(pool_size=2))\n",
    "model.add(Conv1D(128, 3, activation='relu', padding='valid'))\n",
    "model.add(MaxPooling1D(pool_size=2))\n",
    "model.add(Dropout(0.25))\n",
    "model.add(Flatten())\n",
    "model.add(Dense(256, activation='relu'))\n",
    "model.add(Dropout(0.5))\n",
    "model.add(Dense(2, activation='softmax')) # 出力は 損益の2パターン\n",
    "model.compile(loss='categorical_crossentropy', optimizer='rmsprop', metrics=['acc'])\n",
    "\n",
    "early_stopping = EarlyStopping(monitor='val_acc', mode='auto', patience=8)\n",
    "model_checkpoint = ModelCheckpoint(filepath=\"18.Buyer2.h5\")\n",
    "\n",
    "# 訓練実行\n",
    "model.fit(Xtrain, Y,\n",
    "          batch_size=2048, # 訓練データが多い場合は、ミニバッチサイズを大きくしないとオーバーフローが起きる\n",
    "          epochs=256,\n",
    "          shuffle=True,\n",
    "          validation_split=0.1, # 訓練データのうち10％を検証データとして仕様\n",
    "          callbacks=[early_stopping, model_checkpoint]\n",
    "         )"
   ]
  },
  {
   "cell_type": "markdown",
   "metadata": {},
   "source": [
    "特徴量にテクニカル指標を追加してみてもあまり変わらなかった。\n",
    "\n",
    "基本的に20期間以上の終値データがあれば大体予測できるが、それ以上の特徴量があっても精度は上がらないと思われる。\n",
    "\n",
    "したがって、プライスアクショントレードの精度は、48％（4パターン予測）が限界といえる。また、「勝てる・負ける」の2パターンの予測精度は62％が限界といえる。"
   ]
  },
  {
   "cell_type": "code",
   "execution_count": null,
   "metadata": {},
   "outputs": [],
   "source": []
  }
 ],
 "metadata": {
  "kernelspec": {
   "display_name": "Python 3",
   "language": "python",
   "name": "python3"
  },
  "language_info": {
   "codemirror_mode": {
    "name": "ipython",
    "version": 3
   },
   "file_extension": ".py",
   "mimetype": "text/x-python",
   "name": "python",
   "nbconvert_exporter": "python",
   "pygments_lexer": "ipython3",
   "version": "3.6.8"
  }
 },
 "nbformat": 4,
 "nbformat_minor": 2
}
