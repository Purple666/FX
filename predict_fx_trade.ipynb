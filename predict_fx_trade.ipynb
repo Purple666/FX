{
 "cells": [
  {
   "cell_type": "markdown",
   "metadata": {},
   "source": [
    "# 値動きのみでFXに勝てるかDeepLeaningに推測させる\n",
    "\n",
    "## 概要\n",
    "\n",
    "DeepLearningを使って、過去の値動きから次の瞬間の価格を予測している記事はよく見かける\n",
    "\n",
    "しかし、一時的な価格だけ予測できたところでトレードで勝つことはできない\n",
    "\n",
    "必要なのは、特定の期間内においてどういった値動きをして、最終的にどのくらい上がる（もしくは下がる）のかを知ることである\n",
    "\n",
    "では「特定の期間」とはどのくらいの期間を指すのか？\n",
    "\n",
    "それはトレードを行う人の性格やトレードスタイル、戦略等によって変わるため、現状明確な正解はないと思われる\n",
    "\n",
    "本来は、利益を最大化させることのできるトレード期間も合わせて学習できれば良いが、計算量が跳ね上がる上、本当に正解があるかどうかも分からないため、ここではそういった議論は行わない\n",
    "\n",
    "そこで今回は、以下のようなトレード戦略を採用することにする\n",
    "\n",
    "- チャートは1分足を採用（足が長くなるほど経済的な影響を受けやすくなると考えたため）\n",
    "- スプレッドは考慮しない\n",
    "- 「買い」を入れるタイミングで過去20期間分（20分間分）のATRを算出\n",
    "    - 算出したATR値を`atr1`とする\n",
    "    - 「買い」を入れたタイミングでの価格を`price1`とする\n",
    "- 利確価格を`price1 + 5*atr1`, 損切価格を`price1 - 3*atr1`とする\n",
    "- 以降、1分ごとに次の方法で手仕舞いを行う\n",
    "    - 価格が利確価格以上になったら利確する\n",
    "    - 価格が損切価格以下になったら損切する\n",
    "    - 価格が`price1 + atr1`以上になったら、利確・損切価格を上にずらす（トレーリングストップ）\n",
    "        - 新しい利確価格：`その1分足の終値 + 5*atr1`\n",
    "        - 新しい損切価格：`その1分足の終値 - 3*atr1`\n",
    "\n",
    "以上のトレード戦略をとった場合、どのようなタイミングで「買い」を入れれば勝てるのかを予測する\n",
    "\n",
    "## チャートデータ\n",
    "\n",
    "- チャートデータはTickStoryで取得\n",
    "- 通貨ペアはUSD/JOY\n",
    "- 過去5年分の1分足データを学習対象とする\n",
    "\n",
    "## 環境\n",
    "\n",
    "- CPU: Intel(R) Core(TM) i7-7700 CPU @ 3.60GHz\n",
    "- Memory: 16GB DDR2\n",
    "- GPU: NVIDIA GeForce GTX 1070\n",
    "- Python 3.5\n",
    "    - DeepLearningライブラリとして Keras（バックグラウンド: TensorFlow）採用"
   ]
  },
  {
   "cell_type": "markdown",
   "metadata": {},
   "source": [
    "### チャートデータ読み込み"
   ]
  },
  {
   "cell_type": "code",
   "execution_count": 1,
   "metadata": {},
   "outputs": [
    {
     "data": {
      "text/html": [
       "<div>\n",
       "<style scoped>\n",
       "    .dataframe tbody tr th:only-of-type {\n",
       "        vertical-align: middle;\n",
       "    }\n",
       "\n",
       "    .dataframe tbody tr th {\n",
       "        vertical-align: top;\n",
       "    }\n",
       "\n",
       "    .dataframe thead th {\n",
       "        text-align: right;\n",
       "    }\n",
       "</style>\n",
       "<table border=\"1\" class=\"dataframe\">\n",
       "  <thead>\n",
       "    <tr style=\"text-align: right;\">\n",
       "      <th></th>\n",
       "      <th>Open</th>\n",
       "      <th>High</th>\n",
       "      <th>Low</th>\n",
       "      <th>Close</th>\n",
       "      <th>ATR</th>\n",
       "    </tr>\n",
       "    <tr>\n",
       "      <th>Date</th>\n",
       "      <th></th>\n",
       "      <th></th>\n",
       "      <th></th>\n",
       "      <th></th>\n",
       "      <th></th>\n",
       "    </tr>\n",
       "  </thead>\n",
       "  <tbody>\n",
       "    <tr>\n",
       "      <th>2014-01-02 07:21:00</th>\n",
       "      <td>105.351</td>\n",
       "      <td>105.368</td>\n",
       "      <td>105.351</td>\n",
       "      <td>105.354</td>\n",
       "      <td>0.017400</td>\n",
       "    </tr>\n",
       "    <tr>\n",
       "      <th>2014-01-02 07:22:00</th>\n",
       "      <td>105.355</td>\n",
       "      <td>105.355</td>\n",
       "      <td>105.355</td>\n",
       "      <td>105.355</td>\n",
       "      <td>0.016580</td>\n",
       "    </tr>\n",
       "    <tr>\n",
       "      <th>2014-01-02 07:23:00</th>\n",
       "      <td>105.355</td>\n",
       "      <td>105.355</td>\n",
       "      <td>105.351</td>\n",
       "      <td>105.351</td>\n",
       "      <td>0.015951</td>\n",
       "    </tr>\n",
       "    <tr>\n",
       "      <th>2014-01-02 07:24:00</th>\n",
       "      <td>105.354</td>\n",
       "      <td>105.355</td>\n",
       "      <td>105.349</td>\n",
       "      <td>105.355</td>\n",
       "      <td>0.015453</td>\n",
       "    </tr>\n",
       "    <tr>\n",
       "      <th>2014-01-02 07:25:00</th>\n",
       "      <td>105.355</td>\n",
       "      <td>105.381</td>\n",
       "      <td>105.354</td>\n",
       "      <td>105.365</td>\n",
       "      <td>0.016031</td>\n",
       "    </tr>\n",
       "  </tbody>\n",
       "</table>\n",
       "</div>"
      ],
      "text/plain": [
       "                        Open     High      Low    Close       ATR\n",
       "Date                                                             \n",
       "2014-01-02 07:21:00  105.351  105.368  105.351  105.354  0.017400\n",
       "2014-01-02 07:22:00  105.355  105.355  105.355  105.355  0.016580\n",
       "2014-01-02 07:23:00  105.355  105.355  105.351  105.351  0.015951\n",
       "2014-01-02 07:24:00  105.354  105.355  105.349  105.355  0.015453\n",
       "2014-01-02 07:25:00  105.355  105.381  105.354  105.365  0.016031"
      ]
     },
     "execution_count": 1,
     "metadata": {},
     "output_type": "execute_result"
    }
   ],
   "source": [
    "import pandas as pd\n",
    "import talib\n",
    "\n",
    "# データフレームを読み込む\n",
    "df = pd.read_csv('USDJPY_1M_Pretty.csv', index_col='Date')\n",
    "df.index = pd.to_datetime(df.index)\n",
    "# ATR20計算\n",
    "df['ATR'] = talib.ATR(df['High'].values, df['Low'].values, df['Close'].values, timeperiod=20)\n",
    "del df['Volume']\n",
    "df = df.dropna(how='any') # NaN行の削除\n",
    "df.head()"
   ]
  },
  {
   "cell_type": "markdown",
   "metadata": {},
   "source": [
    "### トレード戦略に沿ってトレードした場合の結果を計算\n",
    "\n",
    "概要で定めたトレード戦略に沿って、毎分「買い」を入れた場合のトレード結果を計算する\n",
    "\n",
    "今回はついでに、毎分「売り」を入れた場合についても同様に計算している"
   ]
  },
  {
   "cell_type": "code",
   "execution_count": 6,
   "metadata": {},
   "outputs": [
    {
     "name": "stdout",
     "output_type": "stream",
     "text": [
      "Elapsed Time: 1.4574449062347412 sec\n",
      "BuyProfits: [-0.0162   -0.01474  -0.033853 ... -0.039    -0.031     0.      ]\n",
      "Elapsed Time: 1.6470015048980713 sec\n",
      "SellProfits: [ 0.0342    0.03074   0.032853 ... -0.039    -0.031     0.      ]\n"
     ]
    }
   ],
   "source": [
    "import numpy as np\n",
    "from numba import jit\n",
    "import time\n",
    "\n",
    "# TrailingStop\n",
    "@jit\n",
    "def buy_trail(data, index, price, atr):\n",
    "    # TrailingStop: TP=ATR*5, SL=3*ATR, TS=ATR\n",
    "    tp, sl, ts = price + 5 * atr, price - 3 * atr, price + atr\n",
    "    for i in range(index, len(data)):\n",
    "        row = data[i + 1]\n",
    "        if row[2] <= tp <= row[1]: return tp\n",
    "        elif row[2] <= sl <= row[1]: return sl\n",
    "        elif row[2] <= ts <= row[1]: # Move TakeProfit & StopLoss\n",
    "            tp, sl, ts = row[3] + 5 * atr, row[3] - 3 * atr, row[3] + atr\n",
    "    return data[-1][3]\n",
    "\n",
    "@jit\n",
    "def sell_trail(data, index, price, atr):\n",
    "    # TrailingStop: TP=ATR*5, SL=3*ATR, TS=ATR\n",
    "    tp, sl, ts = price - 5 * atr, price + 3 * atr, price - atr\n",
    "    for i in range(index, len(data)):\n",
    "        row = data[i + 1]\n",
    "        if row[2] <= tp <= row[1]: return tp\n",
    "        elif row[2] <= sl <= row[1]: return sl\n",
    "        elif row[2] <= ts <= row[1]: # Move TakeProfit & StopLoss\n",
    "            tp, sl, ts = row[3] - 5 * atr, row[3] + 3 * atr, row[3] - atr\n",
    "    return data[-1][3]\n",
    "\n",
    "# Buy & TrailingStop\n",
    "@jit\n",
    "def buy(data):\n",
    "    result = []\n",
    "    for i in range(len(data)):\n",
    "        # i番目の瞬間に買いを入れると仮定\n",
    "        row = data[i]\n",
    "        result.append(buy_trail(data, i, row[3], row[4]) - row[3]) # 買いを入れた結果（損益）を保存\n",
    "    return result\n",
    "\n",
    "# Sell & TrailingStop\n",
    "@jit\n",
    "def sell(data):\n",
    "    result = []\n",
    "    for i in range(len(data)):\n",
    "        # i番目の瞬間に売りを入れると仮定\n",
    "        row = data[i]\n",
    "        result.append(sell_trail(data, i, row[3], row[4]) - row[3]) # 売りを入れた結果（損益）を保存\n",
    "    return result\n",
    "\n",
    "start = time.time()\n",
    "buy_profit = np.array(buy(df.values))\n",
    "print(\"Elapsed Time: {0} sec\\nBuyProfits: {1}\".format(time.time() - start, buy_profit))\n",
    "\n",
    "start = time.time()\n",
    "sell_profit = np.array(sell(df.values))\n",
    "print(\"Elapsed Time: {0} sec\\nSellProfits: {1}\".format(time.time() - start, sell_profit))"
   ]
  },
  {
   "cell_type": "code",
   "execution_count": 7,
   "metadata": {},
   "outputs": [
    {
     "data": {
      "text/html": [
       "<div>\n",
       "<style scoped>\n",
       "    .dataframe tbody tr th:only-of-type {\n",
       "        vertical-align: middle;\n",
       "    }\n",
       "\n",
       "    .dataframe tbody tr th {\n",
       "        vertical-align: top;\n",
       "    }\n",
       "\n",
       "    .dataframe thead th {\n",
       "        text-align: right;\n",
       "    }\n",
       "</style>\n",
       "<table border=\"1\" class=\"dataframe\">\n",
       "  <thead>\n",
       "    <tr style=\"text-align: right;\">\n",
       "      <th></th>\n",
       "      <th>Open</th>\n",
       "      <th>High</th>\n",
       "      <th>Low</th>\n",
       "      <th>Close</th>\n",
       "      <th>ATR</th>\n",
       "      <th>Buy</th>\n",
       "      <th>Sell</th>\n",
       "    </tr>\n",
       "    <tr>\n",
       "      <th>Date</th>\n",
       "      <th></th>\n",
       "      <th></th>\n",
       "      <th></th>\n",
       "      <th></th>\n",
       "      <th></th>\n",
       "      <th></th>\n",
       "      <th></th>\n",
       "    </tr>\n",
       "  </thead>\n",
       "  <tbody>\n",
       "    <tr>\n",
       "      <th>2014-01-02 07:21:00</th>\n",
       "      <td>105.351</td>\n",
       "      <td>105.368</td>\n",
       "      <td>105.351</td>\n",
       "      <td>105.354</td>\n",
       "      <td>0.017400</td>\n",
       "      <td>-0.016200</td>\n",
       "      <td>0.034200</td>\n",
       "    </tr>\n",
       "    <tr>\n",
       "      <th>2014-01-02 07:22:00</th>\n",
       "      <td>105.355</td>\n",
       "      <td>105.355</td>\n",
       "      <td>105.355</td>\n",
       "      <td>105.355</td>\n",
       "      <td>0.016580</td>\n",
       "      <td>-0.014740</td>\n",
       "      <td>0.030740</td>\n",
       "    </tr>\n",
       "    <tr>\n",
       "      <th>2014-01-02 07:23:00</th>\n",
       "      <td>105.355</td>\n",
       "      <td>105.355</td>\n",
       "      <td>105.351</td>\n",
       "      <td>105.351</td>\n",
       "      <td>0.015951</td>\n",
       "      <td>-0.033853</td>\n",
       "      <td>0.032853</td>\n",
       "    </tr>\n",
       "    <tr>\n",
       "      <th>2014-01-02 07:24:00</th>\n",
       "      <td>105.354</td>\n",
       "      <td>105.355</td>\n",
       "      <td>105.349</td>\n",
       "      <td>105.355</td>\n",
       "      <td>0.015453</td>\n",
       "      <td>-0.036360</td>\n",
       "      <td>0.027360</td>\n",
       "    </tr>\n",
       "    <tr>\n",
       "      <th>2014-01-02 07:25:00</th>\n",
       "      <td>105.355</td>\n",
       "      <td>105.381</td>\n",
       "      <td>105.354</td>\n",
       "      <td>105.365</td>\n",
       "      <td>0.016031</td>\n",
       "      <td>-0.023092</td>\n",
       "      <td>0.019092</td>\n",
       "    </tr>\n",
       "  </tbody>\n",
       "</table>\n",
       "</div>"
      ],
      "text/plain": [
       "                        Open     High      Low    Close       ATR       Buy  \\\n",
       "Date                                                                          \n",
       "2014-01-02 07:21:00  105.351  105.368  105.351  105.354  0.017400 -0.016200   \n",
       "2014-01-02 07:22:00  105.355  105.355  105.355  105.355  0.016580 -0.014740   \n",
       "2014-01-02 07:23:00  105.355  105.355  105.351  105.351  0.015951 -0.033853   \n",
       "2014-01-02 07:24:00  105.354  105.355  105.349  105.355  0.015453 -0.036360   \n",
       "2014-01-02 07:25:00  105.355  105.381  105.354  105.365  0.016031 -0.023092   \n",
       "\n",
       "                         Sell  \n",
       "Date                           \n",
       "2014-01-02 07:21:00  0.034200  \n",
       "2014-01-02 07:22:00  0.030740  \n",
       "2014-01-02 07:23:00  0.032853  \n",
       "2014-01-02 07:24:00  0.027360  \n",
       "2014-01-02 07:25:00  0.019092  "
      ]
     },
     "execution_count": 7,
     "metadata": {},
     "output_type": "execute_result"
    }
   ],
   "source": [
    "# numpyデータをcsv化\n",
    "val = df.values\n",
    "size = val.shape[0]\n",
    "data = np.zeros((size, 7))\n",
    "for i in range(size):\n",
    "    for x in range(5): data[i][x] = val[i][x]\n",
    "    data[i][5] = buy_profit[i]\n",
    "    data[i][6] = sell_profit[i]\n",
    "csv = pd.DataFrame(index=df.index[:size], columns=['Open', 'High', 'Low', 'Close', 'ATR', 'Buy', 'Sell'], data=data)\n",
    "csv.to_csv(\"USDJPY_TrailingStop.csv\")\n",
    "csv.head()"
   ]
  },
  {
   "cell_type": "markdown",
   "metadata": {},
   "source": [
    "### 目的変数の設定\n",
    "\n",
    "当初、目的変数は単純にトレード結果の価格（いくら儲かり、いくら損したか）にすれば良いと思っていたが、これではうまく学習できなかった\n",
    "\n",
    "そのため、トレード結果を以下の4つに分類することにした\n",
    "\n",
    "1. 大きく勝った（`5*atr1`以上の利益）\n",
    "2. 勝った（`0`以上の利益）\n",
    "3. 負けた（`0`未満の利益）\n",
    "4. 大きく負けた（`-3*atr1`以下の利益）"
   ]
  },
  {
   "cell_type": "code",
   "execution_count": 2,
   "metadata": {},
   "outputs": [
    {
     "data": {
      "text/html": [
       "<div>\n",
       "<style scoped>\n",
       "    .dataframe tbody tr th:only-of-type {\n",
       "        vertical-align: middle;\n",
       "    }\n",
       "\n",
       "    .dataframe tbody tr th {\n",
       "        vertical-align: top;\n",
       "    }\n",
       "\n",
       "    .dataframe thead th {\n",
       "        text-align: right;\n",
       "    }\n",
       "</style>\n",
       "<table border=\"1\" class=\"dataframe\">\n",
       "  <thead>\n",
       "    <tr style=\"text-align: right;\">\n",
       "      <th></th>\n",
       "      <th>Open</th>\n",
       "      <th>High</th>\n",
       "      <th>Low</th>\n",
       "      <th>Close</th>\n",
       "      <th>ATR</th>\n",
       "      <th>Buy</th>\n",
       "      <th>Sell</th>\n",
       "      <th>Buy_cat</th>\n",
       "      <th>Sell_cat</th>\n",
       "    </tr>\n",
       "    <tr>\n",
       "      <th>Date</th>\n",
       "      <th></th>\n",
       "      <th></th>\n",
       "      <th></th>\n",
       "      <th></th>\n",
       "      <th></th>\n",
       "      <th></th>\n",
       "      <th></th>\n",
       "      <th></th>\n",
       "      <th></th>\n",
       "    </tr>\n",
       "  </thead>\n",
       "  <tbody>\n",
       "    <tr>\n",
       "      <th>2014-01-02 07:21:00</th>\n",
       "      <td>105.351</td>\n",
       "      <td>105.368</td>\n",
       "      <td>105.351</td>\n",
       "      <td>105.354</td>\n",
       "      <td>0.017400</td>\n",
       "      <td>-0.016200</td>\n",
       "      <td>0.034200</td>\n",
       "      <td>-1</td>\n",
       "      <td>1</td>\n",
       "    </tr>\n",
       "    <tr>\n",
       "      <th>2014-01-02 07:22:00</th>\n",
       "      <td>105.355</td>\n",
       "      <td>105.355</td>\n",
       "      <td>105.355</td>\n",
       "      <td>105.355</td>\n",
       "      <td>0.016580</td>\n",
       "      <td>-0.014740</td>\n",
       "      <td>0.030740</td>\n",
       "      <td>-1</td>\n",
       "      <td>1</td>\n",
       "    </tr>\n",
       "    <tr>\n",
       "      <th>2014-01-02 07:23:00</th>\n",
       "      <td>105.355</td>\n",
       "      <td>105.355</td>\n",
       "      <td>105.351</td>\n",
       "      <td>105.351</td>\n",
       "      <td>0.015951</td>\n",
       "      <td>-0.033853</td>\n",
       "      <td>0.032853</td>\n",
       "      <td>-1</td>\n",
       "      <td>1</td>\n",
       "    </tr>\n",
       "    <tr>\n",
       "      <th>2014-01-02 07:24:00</th>\n",
       "      <td>105.354</td>\n",
       "      <td>105.355</td>\n",
       "      <td>105.349</td>\n",
       "      <td>105.355</td>\n",
       "      <td>0.015453</td>\n",
       "      <td>-0.036360</td>\n",
       "      <td>0.027360</td>\n",
       "      <td>-1</td>\n",
       "      <td>1</td>\n",
       "    </tr>\n",
       "    <tr>\n",
       "      <th>2014-01-02 07:25:00</th>\n",
       "      <td>105.355</td>\n",
       "      <td>105.381</td>\n",
       "      <td>105.354</td>\n",
       "      <td>105.365</td>\n",
       "      <td>0.016031</td>\n",
       "      <td>-0.023092</td>\n",
       "      <td>0.019092</td>\n",
       "      <td>-1</td>\n",
       "      <td>1</td>\n",
       "    </tr>\n",
       "  </tbody>\n",
       "</table>\n",
       "</div>"
      ],
      "text/plain": [
       "                        Open     High      Low    Close       ATR       Buy  \\\n",
       "Date                                                                          \n",
       "2014-01-02 07:21:00  105.351  105.368  105.351  105.354  0.017400 -0.016200   \n",
       "2014-01-02 07:22:00  105.355  105.355  105.355  105.355  0.016580 -0.014740   \n",
       "2014-01-02 07:23:00  105.355  105.355  105.351  105.351  0.015951 -0.033853   \n",
       "2014-01-02 07:24:00  105.354  105.355  105.349  105.355  0.015453 -0.036360   \n",
       "2014-01-02 07:25:00  105.355  105.381  105.354  105.365  0.016031 -0.023092   \n",
       "\n",
       "                         Sell  Buy_cat  Sell_cat  \n",
       "Date                                              \n",
       "2014-01-02 07:21:00  0.034200       -1         1  \n",
       "2014-01-02 07:22:00  0.030740       -1         1  \n",
       "2014-01-02 07:23:00  0.032853       -1         1  \n",
       "2014-01-02 07:24:00  0.027360       -1         1  \n",
       "2014-01-02 07:25:00  0.019092       -1         1  "
      ]
     },
     "execution_count": 2,
     "metadata": {},
     "output_type": "execute_result"
    }
   ],
   "source": [
    "import numpy as np\n",
    "\n",
    "# 損益額を4パターン（2: 5*ATRより大きい, 1: 0より大きい, -1: 0より小さい, -2: -3*ATRより小さい）にカテゴライズ\n",
    "df['Buy_cat'] = np.where(5 * df['ATR'] < df['Buy'], 2, np.where(0 < df['Buy'], 1, np.where(df['Buy'] < -3 * df['ATR'], -2, -1)))\n",
    "df['Sell_cat'] = np.where(5 * df['ATR'] < df['Sell'], 2, np.where(0 < df['Sell'], 1, np.where(df['Sell'] < -3 * df['ATR'], -2, -1)))\n",
    "df.to_csv('USDJPY_TrailingStop2.csv')\n",
    "df.head()"
   ]
  },
  {
   "cell_type": "markdown",
   "metadata": {},
   "source": [
    "### おまけ：相場の大半がレンジ相場であることを確認\n",
    "\n",
    "ちなみにトレード結果を以下のようにカテゴライズして分散を確認してみると、相場の大半がレンジ相場であることが確認できた\n",
    "\n",
    "1. 大きな利益\n",
    "2. 小さな利益\n",
    "3. 損益なし\n",
    "4. 小さな損失\n",
    "5. 大きな損失"
   ]
  },
  {
   "cell_type": "code",
   "execution_count": 9,
   "metadata": {},
   "outputs": [
    {
     "data": {
      "text/plain": [
       "array([[2.],\n",
       "       [2.],\n",
       "       [2.],\n",
       "       ...,\n",
       "       [2.],\n",
       "       [2.],\n",
       "       [2.]])"
      ]
     },
     "execution_count": 9,
     "metadata": {},
     "output_type": "execute_result"
    }
   ],
   "source": [
    "''' 損益結果をカテゴライズ '''\n",
    "# 5つのパターン（0：大きな損失、1：小さな損失、2：損益なし、3：小さな利益、4：大きな利益）\n",
    "\n",
    "from sklearn.preprocessing import MinMaxScaler\n",
    "\n",
    "scaler = MinMaxScaler()\n",
    "Ybuy = csv['Buy'].values.reshape(-1, 1)\n",
    "scaler.fit(Ybuy)\n",
    "Ybuy = scaler.transform(Ybuy)\n",
    "Ybuy = np.floor(Ybuy * 5) # 5パターンにカテゴライズ\n",
    "Ybuy = np.where(Ybuy == 5., 4., Ybuy) # 最大値が5になっているため4に直す\n",
    "Ybuy"
   ]
  },
  {
   "cell_type": "code",
   "execution_count": 10,
   "metadata": {},
   "outputs": [
    {
     "data": {
      "text/plain": [
       "<BarContainer object of 5 artists>"
      ]
     },
     "execution_count": 10,
     "metadata": {},
     "output_type": "execute_result"
    },
    {
     "data": {
      "image/png": "[encoded data removed]",
      "text/plain": [
       "<Figure size 432x288 with 1 Axes>"
      ]
     },
     "metadata": {
      "needs_background": "light"
     },
     "output_type": "display_data"
    }
   ],
   "source": [
    "import matplotlib.pyplot as plt\n",
    "%matplotlib inline\n",
    "\n",
    "Ynum = [len(Ybuy[Ybuy == i]) for i in range(5)]\n",
    "plt.bar(range(5), Ynum)"
   ]
  },
  {
   "cell_type": "markdown",
   "metadata": {},
   "source": [
    "### 特徴量と学習モデルの選択\n",
    "\n",
    "今回は特徴量として、単純に過去60期間分（1時間分）の値動きデータを採用することにした\n",
    "\n",
    "また、学習モデルとして画像認識によく使われるCNNモデルを選択した\n",
    "\n",
    "これは、値動きのデータを一つの画像としてパターン学習できるのではないかと考えたからである\n",
    "\n",
    "ちなみに、数値予測に採用されることの多いLSTMモデルでも学習させてみたが、今回のケースではCNNモデルでの学習と大差なかった"
   ]
  },
  {
   "cell_type": "code",
   "execution_count": 1,
   "metadata": {},
   "outputs": [
    {
     "name": "stderr",
     "output_type": "stream",
     "text": [
      "Using TensorFlow backend.\n"
     ]
    },
    {
     "data": {
      "text/plain": [
       "((1491718,),\n",
       " array([105.354, 105.355, 105.351, ..., 112.671, 112.668, 112.658]),\n",
       " (1491658, 60),\n",
       " array([[0.23275086, 0.23278836, 0.23263837, ..., 0.23316334, 0.23308835,\n",
       "         0.23308835],\n",
       "        [0.23278836, 0.23263837, 0.23278836, ..., 0.23308835, 0.23308835,\n",
       "         0.23301335],\n",
       "        [0.23263837, 0.23278836, 0.23316334, ..., 0.23308835, 0.23301335,\n",
       "         0.23293835],\n",
       "        ...,\n",
       "        [0.50682466, 0.50701215, 0.50738713, ..., 0.50727464, 0.50734963,\n",
       "         0.50719964],\n",
       "        [0.50701215, 0.50738713, 0.50697465, ..., 0.50734963, 0.50719964,\n",
       "         0.50712464],\n",
       "        [0.50738713, 0.50697465, 0.50659967, ..., 0.50719964, 0.50712464,\n",
       "         0.50701215]]),\n",
       " (1491718,),\n",
       " array([-1, -1, -1, ..., -1, -1, -1], dtype=int64),\n",
       " (1491658, 4),\n",
       " array([[1., 0., 0., 0.],\n",
       "        [0., 1., 0., 0.],\n",
       "        [0., 1., 0., 0.],\n",
       "        ...,\n",
       "        [0., 1., 0., 0.],\n",
       "        [0., 1., 0., 0.],\n",
       "        [0., 1., 0., 0.]], dtype=float32))"
      ]
     },
     "execution_count": 1,
     "metadata": {},
     "output_type": "execute_result"
    }
   ],
   "source": [
    "''' CNNモデルで学習させてみる '''\n",
    "\n",
    "import pandas as pd\n",
    "import numpy as np\n",
    "from sklearn.preprocessing import MinMaxScaler\n",
    "from numba import jit\n",
    "from keras.utils.np_utils import to_categorical\n",
    "\n",
    "# データフレームを読み込む\n",
    "df = pd.read_csv('USDJPY_TrailingStop2.csv', index_col='Date')\n",
    "df.index = pd.to_datetime(df.index)\n",
    "del df['ATR'], df['Open'], df['High'], df['Low'], df['Buy'], df['Sell'], df['Market']\n",
    "# 特徴量、目的変数\n",
    "x = df.loc[:, 'Close']\n",
    "y_buy = df.loc[:, 'Buy_cat']\n",
    "y_sell = df.loc[:, 'Sell_cat']\n",
    "# 訓練データ、テストデータに分割\n",
    "x_train, x_test = x[x.index < '2018'], x[x.index >= '2018']\n",
    "y_buy_train, y_buy_test = y_buy[y_buy.index < '2018'], y_buy[y_buy.index >= '2018']\n",
    "y_sell_train, y_sell_test = y_sell[y_sell.index < '2018'], y_sell[y_sell.index >= '2018']\n",
    "\n",
    "# 特徴量をClose(60)、目的変数をTrailingStop損益結果の4パターンとする\n",
    "@jit\n",
    "def gen_xy(x, y_buy, y_sell, window_len=60):\n",
    "    X, Ybuy, Ysell = [], [], []\n",
    "    for i in range(len(x) - window_len):\n",
    "        X.append(x[i : i + window_len].copy())\n",
    "        Ybuy.append(y_buy[i + window_len - 1])\n",
    "        Ysell.append(y_sell[i + window_len - 1])\n",
    "    X, Ybuy, Ysell = np.array(X), np.array(Ybuy), np.array(Ysell)\n",
    "    # 特徴量を正規化\n",
    "    scaler = MinMaxScaler()\n",
    "    scaler.fit(X) # window_len区間の価格の最大値・最小値にフィット\n",
    "    X = scaler.transform(X)\n",
    "    # 目的変数を正規化\n",
    "    Ybuy = np.where(Ybuy > 0, Ybuy + 1, Ybuy + 2)\n",
    "    Ybuy = to_categorical(Ybuy.astype('int32'))\n",
    "    Ysell = np.where(Ysell > 0, Ysell + 1, Ysell + 2)\n",
    "    Ysell = to_categorical(Ysell.astype('int32'))\n",
    "    return X, Ybuy, Ysell\n",
    "\n",
    "Xtrain, Ytrain_buy, Ytrain_sell = gen_xy(x_train.values, y_buy_train.values, y_sell_train.values)\n",
    "x_train.values.shape, x_train.values, Xtrain.shape, Xtrain, y_buy_train.values.shape, y_buy_train.values, Ytrain_buy.shape, Ytrain_buy"
   ]
  },
  {
   "cell_type": "code",
   "execution_count": 2,
   "metadata": {},
   "outputs": [
    {
     "name": "stdout",
     "output_type": "stream",
     "text": [
      "Train on 1342492 samples, validate on 149166 samples\n",
      "Epoch 1/256\n",
      "1342492/1342492 [==============================] - 13s 9us/step - loss: 1.2195 - acc: 0.4818 - val_loss: 1.2114 - val_acc: 0.4877\n",
      "Epoch 2/256\n",
      "1342492/1342492 [==============================] - 9s 6us/step - loss: 1.2170 - acc: 0.4822 - val_loss: 1.2109 - val_acc: 0.4877\n",
      "Epoch 3/256\n",
      "1342492/1342492 [==============================] - 9s 6us/step - loss: 1.2167 - acc: 0.4822 - val_loss: 1.2109 - val_acc: 0.4877\n",
      "Epoch 4/256\n",
      "1342492/1342492 [==============================] - 8s 6us/step - loss: 1.2167 - acc: 0.4822 - val_loss: 1.2110 - val_acc: 0.4877\n",
      "Epoch 5/256\n",
      "1342492/1342492 [==============================] - 9s 6us/step - loss: 1.2166 - acc: 0.4822 - val_loss: 1.2108 - val_acc: 0.4877\n",
      "Epoch 6/256\n",
      "1342492/1342492 [==============================] - 8s 6us/step - loss: 1.2166 - acc: 0.4822 - val_loss: 1.2110 - val_acc: 0.4877\n",
      "Epoch 7/256\n",
      "1342492/1342492 [==============================] - 8s 6us/step - loss: 1.2166 - acc: 0.4822 - val_loss: 1.2110 - val_acc: 0.4877\n",
      "Epoch 8/256\n",
      "1342492/1342492 [==============================] - 8s 6us/step - loss: 1.2166 - acc: 0.4822 - val_loss: 1.2114 - val_acc: 0.4877\n",
      "Epoch 9/256\n",
      "1342492/1342492 [==============================] - 9s 6us/step - loss: 1.2165 - acc: 0.4822 - val_loss: 1.2109 - val_acc: 0.4877\n"
     ]
    },
    {
     "data": {
      "text/plain": [
       "<keras.callbacks.History at 0x17fbaaccfd0>"
      ]
     },
     "execution_count": 2,
     "metadata": {},
     "output_type": "execute_result"
    }
   ],
   "source": [
    "from keras.models import Sequential\n",
    "from keras.layers import Dense\n",
    "from keras.layers import Conv1D\n",
    "from keras.layers import MaxPooling1D\n",
    "from keras.layers import Flatten\n",
    "from keras.layers import Dropout\n",
    "from keras.callbacks import EarlyStopping\n",
    "from keras.callbacks import ModelCheckpoint\n",
    "\n",
    "''' CNNで買い専用AIの訓練 '''\n",
    "\n",
    "model = Sequential()\n",
    "model.add(Conv1D(32, 3, activation='relu', padding='valid', input_shape=(60, 1)))\n",
    "model.add(MaxPooling1D(pool_size=2))\n",
    "model.add(Conv1D(64, 3, activation='relu', padding='valid'))\n",
    "model.add(MaxPooling1D(pool_size=2))\n",
    "model.add(Dropout(0.25))\n",
    "model.add(Flatten())\n",
    "model.add(Dense(250, activation='relu'))\n",
    "model.add(Dropout(0.25))\n",
    "model.add(Dense(4, activation='softmax'))\n",
    "model.compile(loss='categorical_crossentropy', optimizer='rmsprop', metrics=['acc'])\n",
    "\n",
    "early_stopping = EarlyStopping(monitor='val_acc', mode='auto', patience=8)\n",
    "model_checkpoint = ModelCheckpoint(filepath=\"BuyerCNN.h5\")\n",
    "\n",
    "# 訓練実行\n",
    "model.fit(Xtrain.reshape(Xtrain.shape[0], 60, 1), Ytrain_buy,\n",
    "          batch_size=2048, # 訓練データが多い場合は、ミニバッチサイズを大きくしないとオーバーフローが起きる\n",
    "          epochs=256,\n",
    "          shuffle=True,\n",
    "          validation_split=0.1, # 訓練データのうち10％を検証データとして仕様\n",
    "          callbacks=[early_stopping, model_checkpoint]\n",
    "         )"
   ]
  },
  {
   "cell_type": "code",
   "execution_count": 3,
   "metadata": {},
   "outputs": [
    {
     "name": "stdout",
     "output_type": "stream",
     "text": [
      "285854/285854 [==============================] - 12s 40us/step\n"
     ]
    },
    {
     "data": {
      "text/plain": [
       "[1.2152179759775485, 0.4825855156840822]"
      ]
     },
     "execution_count": 3,
     "metadata": {},
     "output_type": "execute_result"
    }
   ],
   "source": [
    "Xtest, Ytest_buy, Ytest_sell = gen_xy(x_test.values, y_buy_test.values, y_sell_test.values)\n",
    "model.evaluate(Xtest.reshape(Xtest.shape[0], 60, 1), Ytest_buy)"
   ]
  },
  {
   "cell_type": "markdown",
   "metadata": {},
   "source": [
    "上記より、トレード結果を4つにカテゴライズ（大きく勝つ・勝つ・負ける・大きく負ける）する場合、およそ48％の精度で予測できることがわかった\n",
    "\n",
    "当てずっぽうに4択したら25％の確率であるため、それよりは倍程度良いのだが、個人的にはこの程度の精度でFXに勝つことはできないと考えている（体感的に）\n",
    "\n",
    "以下、おまけとして、トレード結果を「勝つ・負ける」の2つにカテゴライズした場合についても学習させてみた"
   ]
  },
  {
   "cell_type": "code",
   "execution_count": 4,
   "metadata": {},
   "outputs": [
    {
     "name": "stdout",
     "output_type": "stream",
     "text": [
      "Train on 1342492 samples, validate on 149166 samples\n",
      "Epoch 1/256\n",
      "1342492/1342492 [==============================] - 9s 7us/step - loss: 0.6637 - acc: 0.6217 - val_loss: 0.6618 - val_acc: 0.6245\n",
      "Epoch 2/256\n",
      "1342492/1342492 [==============================] - 9s 7us/step - loss: 0.6632 - acc: 0.6220 - val_loss: 0.6619 - val_acc: 0.6245\n",
      "Epoch 3/256\n",
      "1342492/1342492 [==============================] - 9s 7us/step - loss: 0.6632 - acc: 0.6220 - val_loss: 0.6620 - val_acc: 0.6245\n",
      "Epoch 4/256\n",
      "1342492/1342492 [==============================] - 9s 7us/step - loss: 0.6632 - acc: 0.6220 - val_loss: 0.6620 - val_acc: 0.6245\n",
      "Epoch 5/256\n",
      "1342492/1342492 [==============================] - 9s 7us/step - loss: 0.6632 - acc: 0.6220 - val_loss: 0.6618 - val_acc: 0.6245\n",
      "Epoch 6/256\n",
      "1342492/1342492 [==============================] - 9s 7us/step - loss: 0.6632 - acc: 0.6220 - val_loss: 0.6618 - val_acc: 0.6245\n",
      "Epoch 7/256\n",
      "1342492/1342492 [==============================] - 9s 7us/step - loss: 0.6632 - acc: 0.6220 - val_loss: 0.6618 - val_acc: 0.6245\n",
      "Epoch 8/256\n",
      "1342492/1342492 [==============================] - 9s 7us/step - loss: 0.6631 - acc: 0.6220 - val_loss: 0.6619 - val_acc: 0.6245\n",
      "Epoch 9/256\n",
      "1342492/1342492 [==============================] - 9s 7us/step - loss: 0.6631 - acc: 0.6220 - val_loss: 0.6618 - val_acc: 0.6245\n"
     ]
    },
    {
     "data": {
      "text/plain": [
       "<keras.callbacks.History at 0x17f82b4aa58>"
      ]
     },
     "execution_count": 4,
     "metadata": {},
     "output_type": "execute_result"
    }
   ],
   "source": [
    "''' 目的変数を勝てる・負けるの2パターンにして学習させてみる '''\n",
    "\n",
    "@jit\n",
    "def gen_xy(x, y_buy, y_sell, window_len=60):\n",
    "    X, Ybuy, Ysell = [], [], []\n",
    "    for i in range(len(x) - window_len):\n",
    "        X.append(x[i : i + window_len].copy())\n",
    "        Ybuy.append(y_buy[i + window_len - 1])\n",
    "        Ysell.append(y_sell[i + window_len - 1])\n",
    "    X, Ybuy, Ysell = np.array(X), np.array(Ybuy), np.array(Ysell)\n",
    "    # 特徴量を正規化\n",
    "    scaler = MinMaxScaler()\n",
    "    scaler.fit(X) # window_len区間の価格の最大値・最小値にフィット\n",
    "    X = scaler.transform(X)\n",
    "    # 目的変数を正規化\n",
    "    Ybuy = np.where(Ybuy > 0, 1, 0)\n",
    "    Ybuy = to_categorical(Ybuy.astype('int32'))\n",
    "    Ysell = np.where(Ysell > 0, 1, 0)\n",
    "    Ysell = to_categorical(Ysell.astype('int32'))\n",
    "    return X, Ybuy, Ysell\n",
    "\n",
    "Xtrain, Ytrain_buy, Ytrain_sell = gen_xy(x_train.values, y_buy_train.values, y_sell_train.values)\n",
    "\n",
    "model = Sequential()\n",
    "model.add(Conv1D(32, 3, activation='relu', padding='valid', input_shape=(60, 1)))\n",
    "model.add(MaxPooling1D(pool_size=2))\n",
    "model.add(Conv1D(64, 3, activation='relu', padding='valid'))\n",
    "model.add(MaxPooling1D(pool_size=2))\n",
    "model.add(Dropout(0.25))\n",
    "model.add(Flatten())\n",
    "model.add(Dense(250, activation='relu'))\n",
    "model.add(Dropout(0.25))\n",
    "model.add(Dense(2, activation='softmax'))\n",
    "model.compile(loss='categorical_crossentropy', optimizer='rmsprop', metrics=['acc'])\n",
    "\n",
    "early_stopping = EarlyStopping(monitor='val_acc', mode='auto', patience=8)\n",
    "model_checkpoint = ModelCheckpoint(filepath=\"Buyer2.h5\")\n",
    "\n",
    "# 訓練実行\n",
    "model.fit(Xtrain.reshape(Xtrain.shape[0], 60, 1), Ytrain_buy,\n",
    "          batch_size=2048,\n",
    "          epochs=256,\n",
    "          shuffle=True,\n",
    "          validation_split=0.1,\n",
    "          callbacks=[early_stopping, model_checkpoint]\n",
    "         )"
   ]
  },
  {
   "cell_type": "code",
   "execution_count": 5,
   "metadata": {},
   "outputs": [
    {
     "name": "stdout",
     "output_type": "stream",
     "text": [
      "285854/285854 [==============================] - 12s 41us/step\n"
     ]
    },
    {
     "data": {
      "text/plain": [
       "[0.6626681952004024, 0.6228879078143305]"
      ]
     },
     "execution_count": 5,
     "metadata": {},
     "output_type": "execute_result"
    }
   ],
   "source": [
    "Xtest, Ytest_buy, Ytest_sell = gen_xy(x_test.values, y_buy_test.values, y_sell_test.values)\n",
    "model.evaluate(Xtest.reshape(Xtest.shape[0], 60, 1), Ytest_buy)"
   ]
  },
  {
   "cell_type": "markdown",
   "metadata": {},
   "source": [
    "以上より、このAIが「今買えば勝てる」と推測したタイミングで買って利益が出る確率は62％程度であると言える\n",
    "\n",
    "ぱっと見悪くないようにも思えるが、相場のほとんどがレンジ相場であることを考えると、「買い」シグナルが出ること自体が少ないため、その少ないシグナルの内4割は信用できないということになる\n",
    "\n",
    "これは相当に忍耐力と時間と余剰資金がないと、とてもではないがやってられない\n",
    "\n",
    "なお、どこかの論文か何かだった気がするが、「チャートデータのみで将来の価格を予測するのは6割程度が限界」という話があった記憶があるため、やはりこの辺りがFX予測の限界なのかもしれない"
   ]
  }
 ],
 "metadata": {
  "kernelspec": {
   "display_name": "Python 3",
   "language": "python",
   "name": "python3"
  },
  "language_info": {
   "codemirror_mode": {
    "name": "ipython",
    "version": 3
   },
   "file_extension": ".py",
   "mimetype": "text/x-python",
   "name": "python",
   "nbconvert_exporter": "python",
   "pygments_lexer": "ipython3",
   "version": "3.6.8"
  }
 },
 "nbformat": 4,
 "nbformat_minor": 2
}
